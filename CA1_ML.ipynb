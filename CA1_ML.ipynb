{
 "cells": [
  {
   "cell_type": "code",
   "execution_count": null,
   "id": "123bbfe0-ff3d-4967-8a70-abb364787161",
   "metadata": {},
   "outputs": [],
   "source": [
    "import pandas as pd\n",
    "import warnings\n",
    "import seaborn as sns\n",
    "import matplotlib.pyplot as plt\n",
    "warnings.filterwarnings('ignore')   # The object 'warnings' is used to call the method 'filterwarnings' and ignore the warnings"
   ]
  },
  {
   "cell_type": "code",
   "execution_count": null,
   "id": "f0810097-69f7-4b62-9f50-919701ff3d80",
   "metadata": {},
   "outputs": [],
   "source": [
    "# import the file Rental_Prices(RTB)\n",
    "df_rent= pd.read_csv('housing df.csv')"
   ]
  },
  {
   "cell_type": "code",
   "execution_count": null,
   "id": "be934579-631f-4d02-bdfc-1196ea1c9b4c",
   "metadata": {},
   "outputs": [],
   "source": [
    "df_rent.head()"
   ]
  },
  {
   "cell_type": "code",
   "execution_count": null,
   "id": "8e81874c-aa91-41ba-a03f-5c6bc6a8931e",
   "metadata": {},
   "outputs": [],
   "source": [
    "df_rent.shape"
   ]
  },
  {
   "cell_type": "code",
   "execution_count": null,
   "id": "d90c4137-d4bf-4d19-8ad7-6843cf30830a",
   "metadata": {},
   "outputs": [],
   "source": [
    "df_rent.describe()"
   ]
  },
  {
   "cell_type": "code",
   "execution_count": null,
   "id": "e090fc8c-2000-4d0b-ad83-04b2be8f920e",
   "metadata": {},
   "outputs": [],
   "source": [
    "df_rent.isnull().sum()"
   ]
  },
  {
   "cell_type": "code",
   "execution_count": null,
   "id": "a721efb9-c4b4-49d4-b938-38b961fefb41",
   "metadata": {},
   "outputs": [],
   "source": [
    "df_rent.drop(df_rent.loc[df_rent['Year']<2023].index, inplace=True)"
   ]
  },
  {
   "cell_type": "code",
   "execution_count": null,
   "id": "ee060a9d-dbb6-40b5-bb19-cb3d783b0ca6",
   "metadata": {},
   "outputs": [],
   "source": [
    "df_rent"
   ]
  },
  {
   "cell_type": "code",
   "execution_count": null,
   "id": "19d9fa42-0f47-48eb-8780-772765797018",
   "metadata": {},
   "outputs": [],
   "source": [
    "df_rent.dropna(axis=0,inplace=True)"
   ]
  },
  {
   "cell_type": "code",
   "execution_count": null,
   "id": "fae1caa2-597f-42b7-af21-89bc957c716c",
   "metadata": {},
   "outputs": [],
   "source": [
    "df_rent.shape"
   ]
  },
  {
   "cell_type": "code",
   "execution_count": null,
   "id": "0a33a936-65eb-4e78-b729-8c71aef4f45e",
   "metadata": {},
   "outputs": [],
   "source": [
    "df_rent.isnull().sum()"
   ]
  },
  {
   "cell_type": "code",
   "execution_count": null,
   "id": "d2510e71-5855-45bf-8eac-253fc02af513",
   "metadata": {},
   "outputs": [],
   "source": [
    "df_rent.info()"
   ]
  },
  {
   "cell_type": "code",
   "execution_count": null,
   "id": "6b5614df-f010-47e0-8ea5-767360593bed",
   "metadata": {},
   "outputs": [],
   "source": [
    "df_rent.drop([\"STATISTIC\", \"STATISTIC Label\", \"TLIST(A1)\",\"C02970V03592\", \"C02969V03591\", \"C03004V03625\"] , axis=1,inplace=True)"
   ]
  },
  {
   "cell_type": "code",
   "execution_count": null,
   "id": "bde54494-7020-4f0a-a150-4ac341636b54",
   "metadata": {},
   "outputs": [],
   "source": [
    "df_rent.info()"
   ]
  },
  {
   "cell_type": "code",
   "execution_count": null,
   "id": "56786e8a-34a6-4e44-b7b1-499a582a9564",
   "metadata": {},
   "outputs": [],
   "source": [
    "mean_value = df_rent[\"VALUE\"].mean()"
   ]
  },
  {
   "cell_type": "code",
   "execution_count": null,
   "id": "77a603a0-a70b-442d-81e8-113412052db6",
   "metadata": {},
   "outputs": [],
   "source": [
    "# Plot the distribution with a KDE\n",
    "sns.displot(df_rent[\"VALUE\"], kde=True)\n",
    "plt.axvline(mean_value, color='red', label=f'Mean: {mean_value:.2f}')\n",
    "plt.legend()\n",
    "plt.show()"
   ]
  },
  {
   "cell_type": "code",
   "execution_count": null,
   "id": "51be4787-a2e6-4e33-bdf1-4054e11fa70f",
   "metadata": {},
   "outputs": [],
   "source": [
    "df_rent[\"Location\"].unique"
   ]
  },
  {
   "cell_type": "code",
   "execution_count": null,
   "id": "072f7082-14cd-4eb4-ab93-bf67a31ab684",
   "metadata": {},
   "outputs": [],
   "source": [
    "df_dublin = df_rent[df_rent[\"Location\"].str.contains(\"Dublin\")]"
   ]
  },
  {
   "cell_type": "code",
   "execution_count": null,
   "id": "a93b7a0a-70fa-4bbb-8fc1-4d865b86469f",
   "metadata": {},
   "outputs": [],
   "source": [
    "df_dublin[\"Location\"].unique"
   ]
  },
  {
   "cell_type": "code",
   "execution_count": null,
   "id": "8dfdce43-caab-45a3-aa19-11ebf17acc62",
   "metadata": {},
   "outputs": [],
   "source": []
  }
 ],
 "metadata": {
  "kernelspec": {
   "display_name": "Python 3 (ipykernel)",
   "language": "python",
   "name": "python3"
  },
  "language_info": {
   "codemirror_mode": {
    "name": "ipython",
    "version": 3
   },
   "file_extension": ".py",
   "mimetype": "text/x-python",
   "name": "python",
   "nbconvert_exporter": "python",
   "pygments_lexer": "ipython3",
   "version": "3.12.4"
  }
 },
 "nbformat": 4,
 "nbformat_minor": 5
}
