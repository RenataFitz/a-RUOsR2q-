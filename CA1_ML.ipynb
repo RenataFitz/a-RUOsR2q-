{
 "cells": [
  {
   "cell_type": "code",
   "execution_count": 1,
   "id": "123bbfe0-ff3d-4967-8a70-abb364787161",
   "metadata": {},
   "outputs": [],
   "source": [
    "import pandas as pd\n",
    "import numpy as np\n",
    "import matplotlib.pyplot as plt\n",
    "import seaborn as sns\n",
    "\n",
    "\n",
    "from sklearn.model_selection import train_test_split, cross_val_score\n",
    "from sklearn.compose import ColumnTransformer\n",
    "from sklearn.pipeline import Pipeline\n",
    "from sklearn.preprocessing import LabelEncoder, OneHotEncoder\n",
    "from sklearn.preprocessing import StandardScaler, MinMaxScaler\n",
    "\n",
    "from sklearn.linear_model import LinearRegression\n",
    "from sklearn.ensemble import RandomForestRegressor\n",
    "from sklearn.tree import DecisionTreeRegressor\n",
    "from sklearn.metrics import mean_absolute_error, mean_squared_error, r2_score\n",
    "\n",
    "import warnings\n",
    "warnings.filterwarnings('ignore')"
   ]
  },
  {
   "cell_type": "code",
   "execution_count": 2,
   "id": "f0810097-69f7-4b62-9f50-919701ff3d80",
   "metadata": {},
   "outputs": [],
   "source": [
    "# Load the data\n",
    "data= pd.read_csv('apartments_rent_pl_2024_06.csv')"
   ]
  },
  {
   "cell_type": "markdown",
   "id": "12ea1681-b05e-44f1-9a7b-3acf7c90f3c6",
   "metadata": {},
   "source": [
    " Let’s take a quick look at the dataframe description."
   ]
  },
  {
   "cell_type": "markdown",
   "id": "7e9b372e-f31e-43d2-bcc6-bee21f088484",
   "metadata": {},
   "source": [
    "Data Fields\n",
    "\n",
    "•  city - the name of the city where the property is located\n",
    "\n",
    "•  type - type of the building\n",
    "\n",
    "•  squareMeters - the size of the apartment in square meters\n",
    "\n",
    "•  rooms - number of rooms in the apartment\n",
    "\n",
    "•  floor / floorCount - the floor where the apartment is located and the total number of floors in the building\n",
    "\n",
    "•  buildYear - the year when the building was built\n",
    "\n",
    "•  latitude, longitude - geo coordinate of the property\n",
    "\n",
    "•  centreDistance - distance from the city centre in km\n",
    "\n",
    "• poiCount - number of points of interest in 500m range from the apartment (schools, clinics, post offices, kindergartens, restaurants, colleges,\n",
    "   pharmacies)\n",
    "\n",
    "• [poiName]Distance - distance to the nearest point of interest (schools, clinics, post offices, kindergartens, restaurants, colleges, pharmacies)\n",
    "\n",
    "•  ownership - the type of property ownership\n",
    "\n",
    "•  condition - the condition of the apartment\n",
    "\n",
    "• has[features] - whether the property has key features such as assigned parking space, balcony, elevator, security, storage room\n",
    "\n",
    "•  price - offer price in Polish Zloty"
   ]
  },
  {
   "cell_type": "code",
   "execution_count": 5,
   "id": "460f6129-2438-4503-ab0a-0e93600e23bc",
   "metadata": {},
   "outputs": [
    {
     "data": {
      "text/html": [
       "<div>\n",
       "<style scoped>\n",
       "    .dataframe tbody tr th:only-of-type {\n",
       "        vertical-align: middle;\n",
       "    }\n",
       "\n",
       "    .dataframe tbody tr th {\n",
       "        vertical-align: top;\n",
       "    }\n",
       "\n",
       "    .dataframe thead th {\n",
       "        text-align: right;\n",
       "    }\n",
       "</style>\n",
       "<table border=\"1\" class=\"dataframe\">\n",
       "  <thead>\n",
       "    <tr style=\"text-align: right;\">\n",
       "      <th></th>\n",
       "      <th>id</th>\n",
       "      <th>city</th>\n",
       "      <th>type</th>\n",
       "      <th>squareMeters</th>\n",
       "      <th>rooms</th>\n",
       "      <th>floor</th>\n",
       "      <th>floorCount</th>\n",
       "      <th>buildYear</th>\n",
       "      <th>latitude</th>\n",
       "      <th>longitude</th>\n",
       "      <th>...</th>\n",
       "      <th>pharmacyDistance</th>\n",
       "      <th>ownership</th>\n",
       "      <th>buildingMaterial</th>\n",
       "      <th>condition</th>\n",
       "      <th>hasParkingSpace</th>\n",
       "      <th>hasBalcony</th>\n",
       "      <th>hasElevator</th>\n",
       "      <th>hasSecurity</th>\n",
       "      <th>hasStorageRoom</th>\n",
       "      <th>price</th>\n",
       "    </tr>\n",
       "  </thead>\n",
       "  <tbody>\n",
       "    <tr>\n",
       "      <th>0</th>\n",
       "      <td>727a1427f156535fc0531e59a27e7988</td>\n",
       "      <td>szczecin</td>\n",
       "      <td>blockOfFlats</td>\n",
       "      <td>34.0</td>\n",
       "      <td>1.0</td>\n",
       "      <td>2.0</td>\n",
       "      <td>3.0</td>\n",
       "      <td>NaN</td>\n",
       "      <td>53.394002</td>\n",
       "      <td>14.523988</td>\n",
       "      <td>...</td>\n",
       "      <td>0.481</td>\n",
       "      <td>condominium</td>\n",
       "      <td>NaN</td>\n",
       "      <td>premium</td>\n",
       "      <td>no</td>\n",
       "      <td>yes</td>\n",
       "      <td>no</td>\n",
       "      <td>no</td>\n",
       "      <td>yes</td>\n",
       "      <td>1700</td>\n",
       "    </tr>\n",
       "    <tr>\n",
       "      <th>1</th>\n",
       "      <td>a640ac5f62cce4d6806a7b7d73b5cd52</td>\n",
       "      <td>szczecin</td>\n",
       "      <td>apartmentBuilding</td>\n",
       "      <td>39.0</td>\n",
       "      <td>2.0</td>\n",
       "      <td>5.0</td>\n",
       "      <td>7.0</td>\n",
       "      <td>2022.0</td>\n",
       "      <td>53.404646</td>\n",
       "      <td>14.492033</td>\n",
       "      <td>...</td>\n",
       "      <td>0.546</td>\n",
       "      <td>condominium</td>\n",
       "      <td>brick</td>\n",
       "      <td>premium</td>\n",
       "      <td>yes</td>\n",
       "      <td>yes</td>\n",
       "      <td>yes</td>\n",
       "      <td>no</td>\n",
       "      <td>no</td>\n",
       "      <td>3400</td>\n",
       "    </tr>\n",
       "    <tr>\n",
       "      <th>2</th>\n",
       "      <td>40cb3c6185236a3e4f136641ab7099a4</td>\n",
       "      <td>szczecin</td>\n",
       "      <td>apartmentBuilding</td>\n",
       "      <td>47.0</td>\n",
       "      <td>2.0</td>\n",
       "      <td>4.0</td>\n",
       "      <td>12.0</td>\n",
       "      <td>2016.0</td>\n",
       "      <td>53.438231</td>\n",
       "      <td>14.562027</td>\n",
       "      <td>...</td>\n",
       "      <td>0.331</td>\n",
       "      <td>condominium</td>\n",
       "      <td>brick</td>\n",
       "      <td>premium</td>\n",
       "      <td>yes</td>\n",
       "      <td>yes</td>\n",
       "      <td>yes</td>\n",
       "      <td>yes</td>\n",
       "      <td>yes</td>\n",
       "      <td>2700</td>\n",
       "    </tr>\n",
       "    <tr>\n",
       "      <th>3</th>\n",
       "      <td>4f9fd13b91ba19534fc3db3fc93fa392</td>\n",
       "      <td>szczecin</td>\n",
       "      <td>blockOfFlats</td>\n",
       "      <td>28.0</td>\n",
       "      <td>1.0</td>\n",
       "      <td>4.0</td>\n",
       "      <td>4.0</td>\n",
       "      <td>2017.0</td>\n",
       "      <td>53.429461</td>\n",
       "      <td>14.552017</td>\n",
       "      <td>...</td>\n",
       "      <td>0.137</td>\n",
       "      <td>condominium</td>\n",
       "      <td>brick</td>\n",
       "      <td>premium</td>\n",
       "      <td>no</td>\n",
       "      <td>no</td>\n",
       "      <td>yes</td>\n",
       "      <td>no</td>\n",
       "      <td>no</td>\n",
       "      <td>2300</td>\n",
       "    </tr>\n",
       "    <tr>\n",
       "      <th>4</th>\n",
       "      <td>f14a3f2d0d1d1a8ec896e9587d2c9760</td>\n",
       "      <td>szczecin</td>\n",
       "      <td>blockOfFlats</td>\n",
       "      <td>46.7</td>\n",
       "      <td>2.0</td>\n",
       "      <td>3.0</td>\n",
       "      <td>3.0</td>\n",
       "      <td>1996.0</td>\n",
       "      <td>53.450800</td>\n",
       "      <td>14.556700</td>\n",
       "      <td>...</td>\n",
       "      <td>0.271</td>\n",
       "      <td>condominium</td>\n",
       "      <td>NaN</td>\n",
       "      <td>NaN</td>\n",
       "      <td>yes</td>\n",
       "      <td>yes</td>\n",
       "      <td>no</td>\n",
       "      <td>no</td>\n",
       "      <td>no</td>\n",
       "      <td>1850</td>\n",
       "    </tr>\n",
       "  </tbody>\n",
       "</table>\n",
       "<p>5 rows × 28 columns</p>\n",
       "</div>"
      ],
      "text/plain": [
       "                                 id      city               type  \\\n",
       "0  727a1427f156535fc0531e59a27e7988  szczecin       blockOfFlats   \n",
       "1  a640ac5f62cce4d6806a7b7d73b5cd52  szczecin  apartmentBuilding   \n",
       "2  40cb3c6185236a3e4f136641ab7099a4  szczecin  apartmentBuilding   \n",
       "3  4f9fd13b91ba19534fc3db3fc93fa392  szczecin       blockOfFlats   \n",
       "4  f14a3f2d0d1d1a8ec896e9587d2c9760  szczecin       blockOfFlats   \n",
       "\n",
       "   squareMeters  rooms  floor  floorCount  buildYear   latitude  longitude  \\\n",
       "0          34.0    1.0    2.0         3.0        NaN  53.394002  14.523988   \n",
       "1          39.0    2.0    5.0         7.0     2022.0  53.404646  14.492033   \n",
       "2          47.0    2.0    4.0        12.0     2016.0  53.438231  14.562027   \n",
       "3          28.0    1.0    4.0         4.0     2017.0  53.429461  14.552017   \n",
       "4          46.7    2.0    3.0         3.0     1996.0  53.450800  14.556700   \n",
       "\n",
       "   ...  pharmacyDistance    ownership  buildingMaterial  condition  \\\n",
       "0  ...             0.481  condominium               NaN    premium   \n",
       "1  ...             0.546  condominium             brick    premium   \n",
       "2  ...             0.331  condominium             brick    premium   \n",
       "3  ...             0.137  condominium             brick    premium   \n",
       "4  ...             0.271  condominium               NaN        NaN   \n",
       "\n",
       "   hasParkingSpace  hasBalcony  hasElevator  hasSecurity  hasStorageRoom price  \n",
       "0               no         yes           no           no             yes  1700  \n",
       "1              yes         yes          yes           no              no  3400  \n",
       "2              yes         yes          yes          yes             yes  2700  \n",
       "3               no          no          yes           no              no  2300  \n",
       "4              yes         yes           no           no              no  1850  \n",
       "\n",
       "[5 rows x 28 columns]"
      ]
     },
     "execution_count": 5,
     "metadata": {},
     "output_type": "execute_result"
    }
   ],
   "source": [
    "data.head()"
   ]
  },
  {
   "cell_type": "code",
   "execution_count": 6,
   "id": "1239b87a-e9e6-4765-8b20-36daa57304e1",
   "metadata": {},
   "outputs": [
    {
     "data": {
      "text/plain": [
       "(8849, 28)"
      ]
     },
     "execution_count": 6,
     "metadata": {},
     "output_type": "execute_result"
    }
   ],
   "source": [
    "data.shape"
   ]
  },
  {
   "cell_type": "markdown",
   "id": "28b32e63-82e2-4f59-8ebb-6e9f31433dac",
   "metadata": {},
   "source": [
    "I got 8849 rows with 28 features. The currency is PLN (Polish Złoty). There are  categorical, so I will need to use Encoder to encode values so that they were numbers."
   ]
  },
  {
   "cell_type": "code",
   "execution_count": 8,
   "id": "f6ae4c41-4603-4d16-9dc8-0e3fbc79477b",
   "metadata": {},
   "outputs": [
    {
     "name": "stdout",
     "output_type": "stream",
     "text": [
      "<class 'pandas.core.frame.DataFrame'>\n",
      "RangeIndex: 8849 entries, 0 to 8848\n",
      "Data columns (total 28 columns):\n",
      " #   Column                Non-Null Count  Dtype  \n",
      "---  ------                --------------  -----  \n",
      " 0   id                    8849 non-null   object \n",
      " 1   city                  8849 non-null   object \n",
      " 2   type                  7019 non-null   object \n",
      " 3   squareMeters          8849 non-null   float64\n",
      " 4   rooms                 8849 non-null   float64\n",
      " 5   floor                 7796 non-null   float64\n",
      " 6   floorCount            8694 non-null   float64\n",
      " 7   buildYear             6600 non-null   float64\n",
      " 8   latitude              8849 non-null   float64\n",
      " 9   longitude             8849 non-null   float64\n",
      " 10  centreDistance        8849 non-null   float64\n",
      " 11  poiCount              8849 non-null   float64\n",
      " 12  schoolDistance        8849 non-null   float64\n",
      " 13  clinicDistance        8845 non-null   float64\n",
      " 14  postOfficeDistance    8846 non-null   float64\n",
      " 15  kindergartenDistance  8846 non-null   float64\n",
      " 16  restaurantDistance    8833 non-null   float64\n",
      " 17  collegeDistance       8737 non-null   float64\n",
      " 18  pharmacyDistance      8842 non-null   float64\n",
      " 19  ownership             8849 non-null   object \n",
      " 20  buildingMaterial      5344 non-null   object \n",
      " 21  condition             2520 non-null   object \n",
      " 22  hasParkingSpace       8849 non-null   object \n",
      " 23  hasBalcony            8849 non-null   object \n",
      " 24  hasElevator           8353 non-null   object \n",
      " 25  hasSecurity           8849 non-null   object \n",
      " 26  hasStorageRoom        8849 non-null   object \n",
      " 27  price                 8849 non-null   int64  \n",
      "dtypes: float64(16), int64(1), object(11)\n",
      "memory usage: 1.9+ MB\n"
     ]
    }
   ],
   "source": [
    "data.info()"
   ]
  },
  {
   "cell_type": "code",
   "execution_count": 9,
   "id": "d90c4137-d4bf-4d19-8ad7-6843cf30830a",
   "metadata": {},
   "outputs": [],
   "source": [
    "data= data.rename(columns={\"squareMeters\": \"square_meters\"})"
   ]
  },
  {
   "cell_type": "code",
   "execution_count": 10,
   "id": "62b63bff-9132-49fc-96a0-c4b1b0702aa1",
   "metadata": {},
   "outputs": [],
   "source": [
    "data= data.rename(columns={\"floorCount\": \"floor_count\"})"
   ]
  },
  {
   "cell_type": "code",
   "execution_count": 11,
   "id": "ce66450f-70b3-4874-82f7-a7bf86cccf77",
   "metadata": {},
   "outputs": [],
   "source": [
    "data= data.rename(columns={\"buildYear\": \"build_year\"})"
   ]
  },
  {
   "cell_type": "code",
   "execution_count": 12,
   "id": "ace98cc5-fe65-4c8d-b55d-ef4a954c0908",
   "metadata": {},
   "outputs": [],
   "source": [
    "data= data.rename(columns={\"centreDistance\": \"centre_dist\"})"
   ]
  },
  {
   "cell_type": "code",
   "execution_count": 13,
   "id": "cc834467-fbdf-4d6f-807d-0601dd17e387",
   "metadata": {},
   "outputs": [],
   "source": [
    "data= data.rename(columns={\"centreDistance\": \"centre_distance\"})"
   ]
  },
  {
   "cell_type": "code",
   "execution_count": 14,
   "id": "16f4673d-9e4a-4dcc-9ff2-be3f71f50cae",
   "metadata": {},
   "outputs": [],
   "source": [
    "data= data.rename(columns={\"poiCount\": \"poi_count\"})"
   ]
  },
  {
   "cell_type": "code",
   "execution_count": 15,
   "id": "15da98c6-4971-4ebb-8d9f-42b7f239760d",
   "metadata": {},
   "outputs": [],
   "source": [
    "data= data.rename(columns={\"schoolDistance\": \"school_dist\"})"
   ]
  },
  {
   "cell_type": "code",
   "execution_count": 16,
   "id": "ef5e37b9-6f3a-4722-930e-9d21afd41909",
   "metadata": {},
   "outputs": [],
   "source": [
    "data= data.rename(columns={\"clinicDistance\": \"clinic_dist\"})"
   ]
  },
  {
   "cell_type": "code",
   "execution_count": 17,
   "id": "c174ce13-389a-4bbf-9566-e2cca6c58fb0",
   "metadata": {},
   "outputs": [],
   "source": [
    "data= data.rename(columns={\"postOfficeDistance\": \"post_office_dist\"})"
   ]
  },
  {
   "cell_type": "code",
   "execution_count": 18,
   "id": "20f5e3e6-e14f-4cb1-9339-c2baa14ae262",
   "metadata": {},
   "outputs": [],
   "source": [
    "data= data.rename(columns={\"kindergartenDistance\": \"kindergarten_dist\"})"
   ]
  },
  {
   "cell_type": "code",
   "execution_count": 19,
   "id": "9d0a1ef8-0e79-4525-80c6-23dbc00bdde5",
   "metadata": {},
   "outputs": [],
   "source": [
    "data= data.rename(columns={\"restaurantDistance\": \"restaurant_dist\"})"
   ]
  },
  {
   "cell_type": "code",
   "execution_count": 20,
   "id": "235da928-d7fa-4d7b-a594-2b59498352e6",
   "metadata": {},
   "outputs": [],
   "source": [
    "data= data.rename(columns={\"collegeDistance\": \"college_dist\"})"
   ]
  },
  {
   "cell_type": "code",
   "execution_count": 21,
   "id": "4c05ee6f-3ec8-4f04-9bcf-fc6cd572a08d",
   "metadata": {},
   "outputs": [],
   "source": [
    "data= data.rename(columns={\"pharmacyDistance\": \"pharmacy_dist\"})"
   ]
  },
  {
   "cell_type": "code",
   "execution_count": 22,
   "id": "5a01a08d-82b2-4b91-a051-fb632b02f58e",
   "metadata": {},
   "outputs": [],
   "source": [
    "data= data.rename(columns={\"buildingMaterial\": \"building_material\"})"
   ]
  },
  {
   "cell_type": "code",
   "execution_count": 23,
   "id": "f3e264d8-a378-41a0-8d6d-64b5e851464b",
   "metadata": {},
   "outputs": [],
   "source": [
    "data= data.rename(columns={\"hasParkingSpace\": \"has_parking_space\"})"
   ]
  },
  {
   "cell_type": "code",
   "execution_count": 24,
   "id": "f4d46fcc-911b-401b-a86f-1bf9347eff73",
   "metadata": {},
   "outputs": [],
   "source": [
    "data= data.rename(columns={\"hasBalcony\": \"has_balcony\"})"
   ]
  },
  {
   "cell_type": "code",
   "execution_count": 25,
   "id": "e064c4d7-9ccf-4dcb-8078-d81f08f0eac5",
   "metadata": {},
   "outputs": [],
   "source": [
    "data= data.rename(columns={\"hasElevator\": \"has_elevator\"})"
   ]
  },
  {
   "cell_type": "code",
   "execution_count": 26,
   "id": "0a70220e-0f32-422d-aae1-da308af9a962",
   "metadata": {},
   "outputs": [],
   "source": [
    "data= data.rename(columns={\"hasSecurity\": \"has_security\"})"
   ]
  },
  {
   "cell_type": "code",
   "execution_count": 27,
   "id": "2602c467-01b3-45fd-aec6-42e44bfcddf4",
   "metadata": {},
   "outputs": [],
   "source": [
    "data= data.rename(columns={\"hasStorageRoom\": \"has_storage_room\"})"
   ]
  },
  {
   "cell_type": "code",
   "execution_count": 28,
   "id": "e090fc8c-2000-4d0b-ad83-04b2be8f920e",
   "metadata": {},
   "outputs": [
    {
     "name": "stdout",
     "output_type": "stream",
     "text": [
      "Missing values in each column:\n",
      "id                      0\n",
      "city                    0\n",
      "type                 1830\n",
      "square_meters           0\n",
      "rooms                   0\n",
      "floor                1053\n",
      "floor_count           155\n",
      "build_year           2249\n",
      "latitude                0\n",
      "longitude               0\n",
      "centre_dist             0\n",
      "poi_count               0\n",
      "school_dist             0\n",
      "clinic_dist             4\n",
      "post_office_dist        3\n",
      "kindergarten_dist       3\n",
      "restaurant_dist        16\n",
      "college_dist          112\n",
      "pharmacy_dist           7\n",
      "ownership               0\n",
      "building_material    3505\n",
      "condition            6329\n",
      "has_parking_space       0\n",
      "has_balcony             0\n",
      "has_elevator          496\n",
      "has_security            0\n",
      "has_storage_room        0\n",
      "price                   0\n",
      "dtype: int64\n"
     ]
    }
   ],
   "source": [
    "# Check for missing values\n",
    "missing_counts=data.isnull().sum()\n",
    "print(\"Missing values in each column:\")\n",
    "print(missing_counts)"
   ]
  },
  {
   "cell_type": "code",
   "execution_count": 29,
   "id": "246a5f5a-792d-4e13-a4d2-547645a5c1cc",
   "metadata": {},
   "outputs": [],
   "source": [
    "# Replace missing categorical values with mode\n",
    "categorical_cols = data.select_dtypes(include=[object]).columns\n",
    "for col in categorical_cols:\n",
    "    mode_value = data[col].mode()[0]\n",
    "    data[col].fillna(mode_value, inplace=True)"
   ]
  },
  {
   "cell_type": "code",
   "execution_count": 30,
   "id": "22c501b0-f75b-409b-b0d4-5e181b822530",
   "metadata": {},
   "outputs": [],
   "source": [
    "# Replace missing numeric values with median\n",
    "numeric_cols = data.select_dtypes(include=[np.number]).columns\n",
    "for col in numeric_cols:\n",
    "    median_value = data[col].median()\n",
    "    data[col].fillna(median_value, inplace=True)"
   ]
  },
  {
   "cell_type": "code",
   "execution_count": 31,
   "id": "c0f05d94-bd71-456a-9525-a82907b8cdc2",
   "metadata": {},
   "outputs": [
    {
     "name": "stdout",
     "output_type": "stream",
     "text": [
      "Missing values in each column:\n",
      "id                   0\n",
      "city                 0\n",
      "type                 0\n",
      "square_meters        0\n",
      "rooms                0\n",
      "floor                0\n",
      "floor_count          0\n",
      "build_year           0\n",
      "latitude             0\n",
      "longitude            0\n",
      "centre_dist          0\n",
      "poi_count            0\n",
      "school_dist          0\n",
      "clinic_dist          0\n",
      "post_office_dist     0\n",
      "kindergarten_dist    0\n",
      "restaurant_dist      0\n",
      "college_dist         0\n",
      "pharmacy_dist        0\n",
      "ownership            0\n",
      "building_material    0\n",
      "condition            0\n",
      "has_parking_space    0\n",
      "has_balcony          0\n",
      "has_elevator         0\n",
      "has_security         0\n",
      "has_storage_room     0\n",
      "price                0\n",
      "dtype: int64\n"
     ]
    }
   ],
   "source": [
    "missing_counts=data.isnull().sum()\n",
    "print(\"Missing values in each column:\")\n",
    "print(missing_counts)"
   ]
  },
  {
   "cell_type": "code",
   "execution_count": 32,
   "id": "a7bee412-1d9f-44c4-8b10-45f5a1f5092b",
   "metadata": {},
   "outputs": [
    {
     "data": {
      "text/html": [
       "<div>\n",
       "<style scoped>\n",
       "    .dataframe tbody tr th:only-of-type {\n",
       "        vertical-align: middle;\n",
       "    }\n",
       "\n",
       "    .dataframe tbody tr th {\n",
       "        vertical-align: top;\n",
       "    }\n",
       "\n",
       "    .dataframe thead th {\n",
       "        text-align: right;\n",
       "    }\n",
       "</style>\n",
       "<table border=\"1\" class=\"dataframe\">\n",
       "  <thead>\n",
       "    <tr style=\"text-align: right;\">\n",
       "      <th></th>\n",
       "      <th>square_meters</th>\n",
       "      <th>rooms</th>\n",
       "      <th>floor</th>\n",
       "      <th>floor_count</th>\n",
       "      <th>build_year</th>\n",
       "      <th>latitude</th>\n",
       "      <th>longitude</th>\n",
       "      <th>centre_dist</th>\n",
       "      <th>poi_count</th>\n",
       "      <th>school_dist</th>\n",
       "      <th>clinic_dist</th>\n",
       "      <th>post_office_dist</th>\n",
       "      <th>kindergarten_dist</th>\n",
       "      <th>restaurant_dist</th>\n",
       "      <th>college_dist</th>\n",
       "      <th>pharmacy_dist</th>\n",
       "      <th>price</th>\n",
       "    </tr>\n",
       "  </thead>\n",
       "  <tbody>\n",
       "    <tr>\n",
       "      <th>count</th>\n",
       "      <td>8849.000000</td>\n",
       "      <td>8849.000000</td>\n",
       "      <td>8849.000000</td>\n",
       "      <td>8849.000000</td>\n",
       "      <td>8849.000000</td>\n",
       "      <td>8849.000000</td>\n",
       "      <td>8849.000000</td>\n",
       "      <td>8849.000000</td>\n",
       "      <td>8849.000000</td>\n",
       "      <td>8849.000000</td>\n",
       "      <td>8849.000000</td>\n",
       "      <td>8849.000000</td>\n",
       "      <td>8849.000000</td>\n",
       "      <td>8849.000000</td>\n",
       "      <td>8849.000000</td>\n",
       "      <td>8849.000000</td>\n",
       "      <td>8849.000000</td>\n",
       "    </tr>\n",
       "    <tr>\n",
       "      <th>mean</th>\n",
       "      <td>54.102354</td>\n",
       "      <td>2.341621</td>\n",
       "      <td>3.313143</td>\n",
       "      <td>5.576675</td>\n",
       "      <td>2001.157193</td>\n",
       "      <td>51.651059</td>\n",
       "      <td>19.699421</td>\n",
       "      <td>3.812791</td>\n",
       "      <td>25.291558</td>\n",
       "      <td>0.370262</td>\n",
       "      <td>0.780508</td>\n",
       "      <td>0.471848</td>\n",
       "      <td>0.326606</td>\n",
       "      <td>0.262404</td>\n",
       "      <td>1.262373</td>\n",
       "      <td>0.309842</td>\n",
       "      <td>3704.230196</td>\n",
       "    </tr>\n",
       "    <tr>\n",
       "      <th>std</th>\n",
       "      <td>22.514152</td>\n",
       "      <td>0.866826</td>\n",
       "      <td>2.356441</td>\n",
       "      <td>3.217869</td>\n",
       "      <td>27.085242</td>\n",
       "      <td>1.125079</td>\n",
       "      <td>1.673343</td>\n",
       "      <td>2.624373</td>\n",
       "      <td>27.717714</td>\n",
       "      <td>0.333363</td>\n",
       "      <td>0.730913</td>\n",
       "      <td>0.384894</td>\n",
       "      <td>0.307060</td>\n",
       "      <td>0.303971</td>\n",
       "      <td>1.013376</td>\n",
       "      <td>0.312380</td>\n",
       "      <td>2318.653411</td>\n",
       "    </tr>\n",
       "    <tr>\n",
       "      <th>min</th>\n",
       "      <td>25.000000</td>\n",
       "      <td>1.000000</td>\n",
       "      <td>1.000000</td>\n",
       "      <td>1.000000</td>\n",
       "      <td>1856.000000</td>\n",
       "      <td>49.984145</td>\n",
       "      <td>14.476723</td>\n",
       "      <td>0.020000</td>\n",
       "      <td>0.000000</td>\n",
       "      <td>0.006000</td>\n",
       "      <td>0.006000</td>\n",
       "      <td>0.002000</td>\n",
       "      <td>0.001000</td>\n",
       "      <td>0.001000</td>\n",
       "      <td>0.005000</td>\n",
       "      <td>0.001000</td>\n",
       "      <td>415.000000</td>\n",
       "    </tr>\n",
       "    <tr>\n",
       "      <th>25%</th>\n",
       "      <td>39.000000</td>\n",
       "      <td>2.000000</td>\n",
       "      <td>2.000000</td>\n",
       "      <td>4.000000</td>\n",
       "      <td>2002.000000</td>\n",
       "      <td>50.279167</td>\n",
       "      <td>18.980582</td>\n",
       "      <td>1.750000</td>\n",
       "      <td>9.000000</td>\n",
       "      <td>0.175000</td>\n",
       "      <td>0.309000</td>\n",
       "      <td>0.235000</td>\n",
       "      <td>0.155000</td>\n",
       "      <td>0.088000</td>\n",
       "      <td>0.509000</td>\n",
       "      <td>0.139000</td>\n",
       "      <td>2400.000000</td>\n",
       "    </tr>\n",
       "    <tr>\n",
       "      <th>50%</th>\n",
       "      <td>48.600000</td>\n",
       "      <td>2.000000</td>\n",
       "      <td>3.000000</td>\n",
       "      <td>5.000000</td>\n",
       "      <td>2010.000000</td>\n",
       "      <td>52.164600</td>\n",
       "      <td>19.956629</td>\n",
       "      <td>3.290000</td>\n",
       "      <td>17.000000</td>\n",
       "      <td>0.286000</td>\n",
       "      <td>0.540000</td>\n",
       "      <td>0.389000</td>\n",
       "      <td>0.261000</td>\n",
       "      <td>0.182000</td>\n",
       "      <td>0.948000</td>\n",
       "      <td>0.236000</td>\n",
       "      <td>3000.000000</td>\n",
       "    </tr>\n",
       "    <tr>\n",
       "      <th>75%</th>\n",
       "      <td>62.000000</td>\n",
       "      <td>3.000000</td>\n",
       "      <td>4.000000</td>\n",
       "      <td>7.000000</td>\n",
       "      <td>2018.000000</td>\n",
       "      <td>52.240917</td>\n",
       "      <td>21.006650</td>\n",
       "      <td>5.320000</td>\n",
       "      <td>30.000000</td>\n",
       "      <td>0.450000</td>\n",
       "      <td>0.962000</td>\n",
       "      <td>0.592000</td>\n",
       "      <td>0.403000</td>\n",
       "      <td>0.335000</td>\n",
       "      <td>1.752000</td>\n",
       "      <td>0.381000</td>\n",
       "      <td>4000.000000</td>\n",
       "    </tr>\n",
       "    <tr>\n",
       "      <th>max</th>\n",
       "      <td>150.000000</td>\n",
       "      <td>6.000000</td>\n",
       "      <td>20.000000</td>\n",
       "      <td>29.000000</td>\n",
       "      <td>2024.000000</td>\n",
       "      <td>54.566860</td>\n",
       "      <td>23.193258</td>\n",
       "      <td>16.610000</td>\n",
       "      <td>210.000000</td>\n",
       "      <td>4.643000</td>\n",
       "      <td>4.990000</td>\n",
       "      <td>4.939000</td>\n",
       "      <td>4.580000</td>\n",
       "      <td>4.961000</td>\n",
       "      <td>4.985000</td>\n",
       "      <td>4.836000</td>\n",
       "      <td>19500.000000</td>\n",
       "    </tr>\n",
       "  </tbody>\n",
       "</table>\n",
       "</div>"
      ],
      "text/plain": [
       "       square_meters        rooms        floor  floor_count   build_year  \\\n",
       "count    8849.000000  8849.000000  8849.000000  8849.000000  8849.000000   \n",
       "mean       54.102354     2.341621     3.313143     5.576675  2001.157193   \n",
       "std        22.514152     0.866826     2.356441     3.217869    27.085242   \n",
       "min        25.000000     1.000000     1.000000     1.000000  1856.000000   \n",
       "25%        39.000000     2.000000     2.000000     4.000000  2002.000000   \n",
       "50%        48.600000     2.000000     3.000000     5.000000  2010.000000   \n",
       "75%        62.000000     3.000000     4.000000     7.000000  2018.000000   \n",
       "max       150.000000     6.000000    20.000000    29.000000  2024.000000   \n",
       "\n",
       "          latitude    longitude  centre_dist    poi_count  school_dist  \\\n",
       "count  8849.000000  8849.000000  8849.000000  8849.000000  8849.000000   \n",
       "mean     51.651059    19.699421     3.812791    25.291558     0.370262   \n",
       "std       1.125079     1.673343     2.624373    27.717714     0.333363   \n",
       "min      49.984145    14.476723     0.020000     0.000000     0.006000   \n",
       "25%      50.279167    18.980582     1.750000     9.000000     0.175000   \n",
       "50%      52.164600    19.956629     3.290000    17.000000     0.286000   \n",
       "75%      52.240917    21.006650     5.320000    30.000000     0.450000   \n",
       "max      54.566860    23.193258    16.610000   210.000000     4.643000   \n",
       "\n",
       "       clinic_dist  post_office_dist  kindergarten_dist  restaurant_dist  \\\n",
       "count  8849.000000       8849.000000        8849.000000      8849.000000   \n",
       "mean      0.780508          0.471848           0.326606         0.262404   \n",
       "std       0.730913          0.384894           0.307060         0.303971   \n",
       "min       0.006000          0.002000           0.001000         0.001000   \n",
       "25%       0.309000          0.235000           0.155000         0.088000   \n",
       "50%       0.540000          0.389000           0.261000         0.182000   \n",
       "75%       0.962000          0.592000           0.403000         0.335000   \n",
       "max       4.990000          4.939000           4.580000         4.961000   \n",
       "\n",
       "       college_dist  pharmacy_dist         price  \n",
       "count   8849.000000    8849.000000   8849.000000  \n",
       "mean       1.262373       0.309842   3704.230196  \n",
       "std        1.013376       0.312380   2318.653411  \n",
       "min        0.005000       0.001000    415.000000  \n",
       "25%        0.509000       0.139000   2400.000000  \n",
       "50%        0.948000       0.236000   3000.000000  \n",
       "75%        1.752000       0.381000   4000.000000  \n",
       "max        4.985000       4.836000  19500.000000  "
      ]
     },
     "execution_count": 32,
     "metadata": {},
     "output_type": "execute_result"
    }
   ],
   "source": [
    "data.describe()"
   ]
  },
  {
   "cell_type": "markdown",
   "id": "2e95fd9b-0a33-484d-a72e-d85989308ae4",
   "metadata": {},
   "source": [
    "The one thing that’s worth noticing might be that 75% of the data has a price of 4000 PLN, when the maximum is 19500 PLN. That might mean there are some outliers in the dataset."
   ]
  },
  {
   "cell_type": "code",
   "execution_count": 34,
   "id": "1b6c056d-e090-4d53-86cf-c24cf8b16d0f",
   "metadata": {},
   "outputs": [
    {
     "data": {
      "text/html": [
       "<div>\n",
       "<style scoped>\n",
       "    .dataframe tbody tr th:only-of-type {\n",
       "        vertical-align: middle;\n",
       "    }\n",
       "\n",
       "    .dataframe tbody tr th {\n",
       "        vertical-align: top;\n",
       "    }\n",
       "\n",
       "    .dataframe thead th {\n",
       "        text-align: right;\n",
       "    }\n",
       "</style>\n",
       "<table border=\"1\" class=\"dataframe\">\n",
       "  <thead>\n",
       "    <tr style=\"text-align: right;\">\n",
       "      <th></th>\n",
       "      <th>id</th>\n",
       "      <th>city</th>\n",
       "      <th>type</th>\n",
       "      <th>ownership</th>\n",
       "      <th>building_material</th>\n",
       "      <th>condition</th>\n",
       "      <th>has_parking_space</th>\n",
       "      <th>has_balcony</th>\n",
       "      <th>has_elevator</th>\n",
       "      <th>has_security</th>\n",
       "      <th>has_storage_room</th>\n",
       "    </tr>\n",
       "  </thead>\n",
       "  <tbody>\n",
       "    <tr>\n",
       "      <th>count</th>\n",
       "      <td>8849</td>\n",
       "      <td>8849</td>\n",
       "      <td>8849</td>\n",
       "      <td>8849</td>\n",
       "      <td>8849</td>\n",
       "      <td>8849</td>\n",
       "      <td>8849</td>\n",
       "      <td>8849</td>\n",
       "      <td>8849</td>\n",
       "      <td>8849</td>\n",
       "      <td>8849</td>\n",
       "    </tr>\n",
       "    <tr>\n",
       "      <th>unique</th>\n",
       "      <td>8849</td>\n",
       "      <td>15</td>\n",
       "      <td>3</td>\n",
       "      <td>1</td>\n",
       "      <td>2</td>\n",
       "      <td>2</td>\n",
       "      <td>2</td>\n",
       "      <td>2</td>\n",
       "      <td>2</td>\n",
       "      <td>2</td>\n",
       "      <td>2</td>\n",
       "    </tr>\n",
       "    <tr>\n",
       "      <th>top</th>\n",
       "      <td>727a1427f156535fc0531e59a27e7988</td>\n",
       "      <td>warszawa</td>\n",
       "      <td>apartmentBuilding</td>\n",
       "      <td>condominium</td>\n",
       "      <td>brick</td>\n",
       "      <td>premium</td>\n",
       "      <td>no</td>\n",
       "      <td>yes</td>\n",
       "      <td>yes</td>\n",
       "      <td>no</td>\n",
       "      <td>no</td>\n",
       "    </tr>\n",
       "    <tr>\n",
       "      <th>freq</th>\n",
       "      <td>1</td>\n",
       "      <td>3393</td>\n",
       "      <td>4851</td>\n",
       "      <td>8849</td>\n",
       "      <td>8425</td>\n",
       "      <td>8817</td>\n",
       "      <td>5208</td>\n",
       "      <td>5448</td>\n",
       "      <td>6132</td>\n",
       "      <td>7518</td>\n",
       "      <td>7402</td>\n",
       "    </tr>\n",
       "  </tbody>\n",
       "</table>\n",
       "</div>"
      ],
      "text/plain": [
       "                                      id      city               type  \\\n",
       "count                               8849      8849               8849   \n",
       "unique                              8849        15                  3   \n",
       "top     727a1427f156535fc0531e59a27e7988  warszawa  apartmentBuilding   \n",
       "freq                                   1      3393               4851   \n",
       "\n",
       "          ownership building_material condition has_parking_space has_balcony  \\\n",
       "count          8849              8849      8849              8849        8849   \n",
       "unique            1                 2         2                 2           2   \n",
       "top     condominium             brick   premium                no         yes   \n",
       "freq           8849              8425      8817              5208        5448   \n",
       "\n",
       "       has_elevator has_security has_storage_room  \n",
       "count          8849         8849             8849  \n",
       "unique            2            2                2  \n",
       "top             yes           no               no  \n",
       "freq           6132         7518             7402  "
      ]
     },
     "execution_count": 34,
     "metadata": {},
     "output_type": "execute_result"
    }
   ],
   "source": [
    "data.describe(include=object)"
   ]
  },
  {
   "cell_type": "code",
   "execution_count": 35,
   "id": "f8b35e90-435a-4045-b975-c13265715442",
   "metadata": {},
   "outputs": [],
   "source": [
    "data.drop([\"id\", \"ownership\"],axis=1, inplace=True)"
   ]
  },
  {
   "cell_type": "code",
   "execution_count": 36,
   "id": "35b0d81e-9495-4d2d-9440-c2a9ba1124ad",
   "metadata": {},
   "outputs": [
    {
     "ename": "IndentationError",
     "evalue": "unexpected indent (2673512301.py, line 2)",
     "output_type": "error",
     "traceback": [
      "\u001b[1;36m  Cell \u001b[1;32mIn[36], line 2\u001b[1;36m\u001b[0m\n\u001b[1;33m    plt.figure(figsize=(4, 4))\u001b[0m\n\u001b[1;37m    ^\u001b[0m\n\u001b[1;31mIndentationError\u001b[0m\u001b[1;31m:\u001b[0m unexpected indent\n"
     ]
    }
   ],
   "source": [
    "#for col in data.columns:\n",
    "    plt.figure(figsize=(4, 4))\n",
    "    sns.histplot(data[col], kde=True)\n",
    "    plt.title(f\"Distribution of {col}\")\n",
    "    plt.xticks(rotation=90, fontsize=10)\n",
    "    plt.show()"
   ]
  },
  {
   "cell_type": "code",
   "execution_count": null,
   "id": "fb948fee-ad5a-437f-b1cc-86ba6c90aeb4",
   "metadata": {},
   "outputs": [],
   "source": [
    "# Plotting the relationship (distribution) between rooms and price using a scatter plot\n",
    "plt.figure(figsize=(8, 6))\n",
    "sns.scatterplot(x='rooms', y='price', data=data)\n",
    "plt.title('Distribution of Rooms vs Price')\n",
    "plt.xlabel('Number of Rooms')\n",
    "plt.ylabel('Price')\n",
    "plt.grid(True, linestyle='--', alpha=0.6)\n",
    "plt.show()"
   ]
  },
  {
   "cell_type": "code",
   "execution_count": null,
   "id": "9737b536-befe-4da2-8cbb-798222dfcbec",
   "metadata": {},
   "outputs": [],
   "source": [
    "sns.scatterplot(x='square_meters', y='price', data=data)"
   ]
  },
  {
   "cell_type": "markdown",
   "id": "ca5790d6-dcbe-4fcc-b243-71470038900c",
   "metadata": {},
   "source": [
    "##  labelencoder ##"
   ]
  },
  {
   "cell_type": "markdown",
   "id": "7151bbdf-e2b1-47bd-be27-617f1527a391",
   "metadata": {},
   "source": [
    "Use label encoding for categorical features like city, type, ownership, etc."
   ]
  },
  {
   "cell_type": "code",
   "execution_count": 51,
   "id": "35ec324c-d907-4b61-a2a5-717796bf17b0",
   "metadata": {},
   "outputs": [],
   "source": [
    "# Encoding categorical features\n",
    "le = LabelEncoder()"
   ]
  },
  {
   "cell_type": "code",
   "execution_count": 52,
   "id": "18b314e5-bdd4-42ec-a317-bf18d47a5cab",
   "metadata": {},
   "outputs": [],
   "source": [
    "for column in data.select_dtypes(include = object).columns.tolist():\n",
    "    data[column] = le.fit_transform(data[column])"
   ]
  },
  {
   "cell_type": "code",
   "execution_count": 53,
   "id": "c52d5731-df67-479e-b025-e1d2b6f34925",
   "metadata": {},
   "outputs": [
    {
     "data": {
      "text/html": [
       "<div>\n",
       "<style scoped>\n",
       "    .dataframe tbody tr th:only-of-type {\n",
       "        vertical-align: middle;\n",
       "    }\n",
       "\n",
       "    .dataframe tbody tr th {\n",
       "        vertical-align: top;\n",
       "    }\n",
       "\n",
       "    .dataframe thead th {\n",
       "        text-align: right;\n",
       "    }\n",
       "</style>\n",
       "<table border=\"1\" class=\"dataframe\">\n",
       "  <thead>\n",
       "    <tr style=\"text-align: right;\">\n",
       "      <th></th>\n",
       "      <th>city</th>\n",
       "      <th>type</th>\n",
       "      <th>square_meters</th>\n",
       "      <th>rooms</th>\n",
       "      <th>floor</th>\n",
       "      <th>floor_count</th>\n",
       "      <th>build_year</th>\n",
       "      <th>latitude</th>\n",
       "      <th>longitude</th>\n",
       "      <th>centre_dist</th>\n",
       "      <th>...</th>\n",
       "      <th>college_dist</th>\n",
       "      <th>pharmacy_dist</th>\n",
       "      <th>building_material</th>\n",
       "      <th>condition</th>\n",
       "      <th>has_parking_space</th>\n",
       "      <th>has_balcony</th>\n",
       "      <th>has_elevator</th>\n",
       "      <th>has_security</th>\n",
       "      <th>has_storage_room</th>\n",
       "      <th>price</th>\n",
       "    </tr>\n",
       "  </thead>\n",
       "  <tbody>\n",
       "    <tr>\n",
       "      <th>0</th>\n",
       "      <td>12</td>\n",
       "      <td>1</td>\n",
       "      <td>34.0</td>\n",
       "      <td>1.0</td>\n",
       "      <td>2.0</td>\n",
       "      <td>3.0</td>\n",
       "      <td>2010.0</td>\n",
       "      <td>53.394002</td>\n",
       "      <td>14.523988</td>\n",
       "      <td>4.09</td>\n",
       "      <td>...</td>\n",
       "      <td>2.916</td>\n",
       "      <td>0.481</td>\n",
       "      <td>0</td>\n",
       "      <td>1</td>\n",
       "      <td>0</td>\n",
       "      <td>1</td>\n",
       "      <td>0</td>\n",
       "      <td>0</td>\n",
       "      <td>1</td>\n",
       "      <td>1700</td>\n",
       "    </tr>\n",
       "    <tr>\n",
       "      <th>1</th>\n",
       "      <td>12</td>\n",
       "      <td>0</td>\n",
       "      <td>39.0</td>\n",
       "      <td>2.0</td>\n",
       "      <td>5.0</td>\n",
       "      <td>7.0</td>\n",
       "      <td>2022.0</td>\n",
       "      <td>53.404646</td>\n",
       "      <td>14.492033</td>\n",
       "      <td>5.02</td>\n",
       "      <td>...</td>\n",
       "      <td>3.119</td>\n",
       "      <td>0.546</td>\n",
       "      <td>0</td>\n",
       "      <td>1</td>\n",
       "      <td>1</td>\n",
       "      <td>1</td>\n",
       "      <td>1</td>\n",
       "      <td>0</td>\n",
       "      <td>0</td>\n",
       "      <td>3400</td>\n",
       "    </tr>\n",
       "    <tr>\n",
       "      <th>2</th>\n",
       "      <td>12</td>\n",
       "      <td>0</td>\n",
       "      <td>47.0</td>\n",
       "      <td>2.0</td>\n",
       "      <td>4.0</td>\n",
       "      <td>12.0</td>\n",
       "      <td>2016.0</td>\n",
       "      <td>53.438231</td>\n",
       "      <td>14.562027</td>\n",
       "      <td>1.65</td>\n",
       "      <td>...</td>\n",
       "      <td>0.988</td>\n",
       "      <td>0.331</td>\n",
       "      <td>0</td>\n",
       "      <td>1</td>\n",
       "      <td>1</td>\n",
       "      <td>1</td>\n",
       "      <td>1</td>\n",
       "      <td>1</td>\n",
       "      <td>1</td>\n",
       "      <td>2700</td>\n",
       "    </tr>\n",
       "    <tr>\n",
       "      <th>3</th>\n",
       "      <td>12</td>\n",
       "      <td>1</td>\n",
       "      <td>28.0</td>\n",
       "      <td>1.0</td>\n",
       "      <td>4.0</td>\n",
       "      <td>4.0</td>\n",
       "      <td>2017.0</td>\n",
       "      <td>53.429461</td>\n",
       "      <td>14.552017</td>\n",
       "      <td>0.90</td>\n",
       "      <td>...</td>\n",
       "      <td>0.565</td>\n",
       "      <td>0.137</td>\n",
       "      <td>0</td>\n",
       "      <td>1</td>\n",
       "      <td>0</td>\n",
       "      <td>0</td>\n",
       "      <td>1</td>\n",
       "      <td>0</td>\n",
       "      <td>0</td>\n",
       "      <td>2300</td>\n",
       "    </tr>\n",
       "    <tr>\n",
       "      <th>4</th>\n",
       "      <td>12</td>\n",
       "      <td>1</td>\n",
       "      <td>46.7</td>\n",
       "      <td>2.0</td>\n",
       "      <td>3.0</td>\n",
       "      <td>3.0</td>\n",
       "      <td>1996.0</td>\n",
       "      <td>53.450800</td>\n",
       "      <td>14.556700</td>\n",
       "      <td>3.06</td>\n",
       "      <td>...</td>\n",
       "      <td>1.894</td>\n",
       "      <td>0.271</td>\n",
       "      <td>0</td>\n",
       "      <td>1</td>\n",
       "      <td>1</td>\n",
       "      <td>1</td>\n",
       "      <td>0</td>\n",
       "      <td>0</td>\n",
       "      <td>0</td>\n",
       "      <td>1850</td>\n",
       "    </tr>\n",
       "  </tbody>\n",
       "</table>\n",
       "<p>5 rows × 26 columns</p>\n",
       "</div>"
      ],
      "text/plain": [
       "   city  type  square_meters  rooms  floor  floor_count  build_year  \\\n",
       "0    12     1           34.0    1.0    2.0          3.0      2010.0   \n",
       "1    12     0           39.0    2.0    5.0          7.0      2022.0   \n",
       "2    12     0           47.0    2.0    4.0         12.0      2016.0   \n",
       "3    12     1           28.0    1.0    4.0          4.0      2017.0   \n",
       "4    12     1           46.7    2.0    3.0          3.0      1996.0   \n",
       "\n",
       "    latitude  longitude  centre_dist  ...  college_dist  pharmacy_dist  \\\n",
       "0  53.394002  14.523988         4.09  ...         2.916          0.481   \n",
       "1  53.404646  14.492033         5.02  ...         3.119          0.546   \n",
       "2  53.438231  14.562027         1.65  ...         0.988          0.331   \n",
       "3  53.429461  14.552017         0.90  ...         0.565          0.137   \n",
       "4  53.450800  14.556700         3.06  ...         1.894          0.271   \n",
       "\n",
       "   building_material  condition  has_parking_space  has_balcony  has_elevator  \\\n",
       "0                  0          1                  0            1             0   \n",
       "1                  0          1                  1            1             1   \n",
       "2                  0          1                  1            1             1   \n",
       "3                  0          1                  0            0             1   \n",
       "4                  0          1                  1            1             0   \n",
       "\n",
       "   has_security  has_storage_room  price  \n",
       "0             0                 1   1700  \n",
       "1             0                 0   3400  \n",
       "2             1                 1   2700  \n",
       "3             0                 0   2300  \n",
       "4             0                 0   1850  \n",
       "\n",
       "[5 rows x 26 columns]"
      ]
     },
     "execution_count": 53,
     "metadata": {},
     "output_type": "execute_result"
    }
   ],
   "source": [
    "data.head()"
   ]
  },
  {
   "cell_type": "code",
   "execution_count": 54,
   "id": "c2490965-bd83-472f-a136-f44c63daae4f",
   "metadata": {},
   "outputs": [
    {
     "data": {
      "text/plain": [
       "<Axes: >"
      ]
     },
     "execution_count": 54,
     "metadata": {},
     "output_type": "execute_result"
    },
    {
     "data": {
      "image/png": "[encoded data removed]",
      "text/plain": [
       "<Figure size 500x1000 with 2 Axes>"
      ]
     },
     "metadata": {},
     "output_type": "display_data"
    }
   ],
   "source": [
    "top_features = data.corr()[['price']].sort_values(by=['price'],ascending=False).head(30)\n",
    "plt.figure(figsize=(5,10))\n",
    "sns.heatmap(top_features,cmap='rainbow',annot=True,annot_kws={\"size\": 16},vmin=-1)"
   ]
  },
  {
   "cell_type": "code",
   "execution_count": 55,
   "id": "4f8b6fb0-a14b-4d45-bc1e-b69d9eac47f8",
   "metadata": {},
   "outputs": [],
   "source": [
    "data.drop(columns = [\"has_parking_space\",\"floor\", \"floor_count\", \"has_balcony\",\"has_security\",\"condition\",\"type\", \"build_year\", \"centre_dist\", \"school_dist\", \"clinic_dist\", \"post_office_dist\", \"kindergarten_dist\", \"restaurant_dist\", \"college_dist\", \"pharmacy_dist\", \"building_material\", \"has_storage_room\"], inplace = True)"
   ]
  },
  {
   "cell_type": "markdown",
   "id": "407f23b0-43bf-4194-9989-4630f96cfe02",
   "metadata": {},
   "source": [
    "## Target variable ##"
   ]
  },
  {
   "cell_type": "markdown",
   "id": "c84f72f1-65b9-40a8-a584-574c2366be13",
   "metadata": {},
   "source": [
    "I’m going to train the model to predict the house rental price based on the above features..."
   ]
  },
  {
   "cell_type": "code",
   "execution_count": 58,
   "id": "2cd92b93-2963-4fa2-8e4d-82bf3ee5ba73",
   "metadata": {},
   "outputs": [],
   "source": [
    "#data['log_price'] = np.log(data['price'])"
   ]
  },
  {
   "cell_type": "code",
   "execution_count": 59,
   "id": "232213c7-6e89-4ab1-bc57-9467c93f9f48",
   "metadata": {},
   "outputs": [],
   "source": [
    "# Split features and target variabl\n",
    "X = data.drop(columns=[\"price\"])  # Replace 'target_column' with actual name\n",
    "y = data['price']"
   ]
  },
  {
   "cell_type": "code",
   "execution_count": 136,
   "id": "77fcc694-ee0f-45b1-8f04-6e52456d09c4",
   "metadata": {},
   "outputs": [],
   "source": [
    "sizes = [0.1, 0.15, 0.25]\n",
    "results = {}\n",
    "\n",
    "for split_size in sizes:\n",
    "    # Split the data\n",
    "    X_train, X_test, y_train, y_test = train_test_split(X, y, train_size=split_size, random_state=42)"
   ]
  },
  {
   "cell_type": "code",
   "execution_count": 124,
   "id": "9a7c3aac-869b-4bcc-98cc-d36a09e73d3b",
   "metadata": {},
   "outputs": [
    {
     "name": "stdout",
     "output_type": "stream",
     "text": [
      "x_train shape:  (2212, 7)\n",
      "x_test shape:  (6637, 7)\n",
      "y_train shape:  (2212,)\n",
      "y_test shape:  (6637,)\n"
     ]
    }
   ],
   "source": [
    "print(\"x_train shape: \", X_train.shape)\n",
    "print(\"x_test shape: \", X_test.shape)\n",
    "print(\"y_train shape: \", y_train.shape)\n",
    "print(\"y_test shape: \", y_test.shape)"
   ]
  },
  {
   "cell_type": "code",
   "execution_count": null,
   "id": "5551e89a-01fb-43a9-a35e-4b418e74a881",
   "metadata": {},
   "outputs": [],
   "source": [
    "scaler = MinMaxScaler()\n",
    "X_train= scaler.fit_transform(X_train)\n",
    "X_test= scaler.transform(X_test)"
   ]
  },
  {
   "cell_type": "code",
   "execution_count": null,
   "id": "784cf91f-6c70-4ff0-a635-ee61372c7595",
   "metadata": {},
   "outputs": [],
   "source": [
    "#scaler = StandardScaler()\n",
    "#X_train = scaler.fit_transform(X_train)\n",
    "#X_test = scaler.transform(X_test)"
   ]
  },
  {
   "cell_type": "code",
   "execution_count": 126,
   "id": "778c3a2a-521b-4a43-9b75-814816400d39",
   "metadata": {},
   "outputs": [],
   "source": [
    "# Models\n",
    "models = {\n",
    "    \"Linear Regression\": LinearRegression(),\n",
    "    \"Decision Tree\": DecisionTreeRegressor(random_state=42),\n",
    "    \"Random Forest\": RandomForestRegressor(n_estimators=100, random_state=42)\n",
    "}"
   ]
  },
  {
   "cell_type": "code",
   "execution_count": 134,
   "id": "65835366-f8d3-457d-810e-06b893bd6d5d",
   "metadata": {},
   "outputs": [
    {
     "name": "stdout",
     "output_type": "stream",
     "text": [
      "               Model         MAE           MSE         RMSE  R2 Score\n",
      "0  Linear Regression  897.136457  1.659351e+06  1288.157875  0.693286\n",
      "1      Decision Tree  862.597710  2.037337e+06  1427.353062  0.623420\n",
      "2      Random Forest  662.521384  1.101811e+06  1049.671775  0.796342\n"
     ]
    }
   ],
   "source": [
    "# Store results\n",
    "results = []\n",
    "\n",
    "# Train and evaluate models\n",
    "for name, model in models.items():\n",
    "    # Train the model\n",
    "    model.fit(X_train, y_train)\n",
    "    \n",
    "    # Predict on the test set\n",
    "    y_pred = model.predict(X_test)\n",
    "    \n",
    "    # Calculate performance metrics\n",
    "    mae = mean_absolute_error(y_test, y_pred)\n",
    "    mse = mean_squared_error(y_test, y_pred)\n",
    "    rmse = np.sqrt(mse)\n",
    "    r2 = r2_score(y_test, y_pred)\n",
    "    \n",
    "    # Append results to the list\n",
    "    results.append([name, mae, mse, rmse, r2])\n",
    "\n",
    "# Create a DataFrame to display the results\n",
    "results_data = pd.DataFrame(results, columns=[\"Model\", \"MAE\", \"MSE\", \"RMSE\", \"R2 Score\"])\n",
    "print(results_data)"
   ]
  },
  {
   "cell_type": "code",
   "execution_count": 130,
   "id": "6dd68eee-686f-4b5f-b73b-2ea07a66b55f",
   "metadata": {},
   "outputs": [
    {
     "name": "stdout",
     "output_type": "stream",
     "text": [
      "\n",
      "Model Performance Metrics using Cross-Validation for R² Score:\n",
      "               Model  Mean CV R² Score\n",
      "0  Linear Regression          0.218585\n",
      "1      Decision Tree          0.267544\n",
      "2      Random Forest          0.540710\n"
     ]
    }
   ],
   "source": [
    "# Store results\n",
    "results = []\n",
    "\n",
    "# Train and evaluate models using cross-validation for R² Score\n",
    "for name, model in models.items():\n",
    "    # Perform cross-validation\n",
    "    cv_scores = cross_val_score(model, X, y, cv=5, scoring='r2')  # Using R² for scoring\n",
    "    mean_cv_score = cv_scores.mean()  # Mean R² score\n",
    "    \n",
    "    # Train the model on the full dataset for predictions\n",
    "    model.fit(X, y)\n",
    "    \n",
    "    # Store results\n",
    "    results.append([name, mean_cv_score])\n",
    "\n",
    "# Create a DataFrame to display the results\n",
    "results_data = pd.DataFrame(results, columns=[\"Model\", \"Mean CV R² Score\"])\n",
    "print(\"\\nModel Performance Metrics using Cross-Validation for R² Score:\")\n",
    "print(results_data)"
   ]
  },
  {
   "cell_type": "code",
   "execution_count": null,
   "id": "5904c71d-a3e9-4771-b0aa-476db880865d",
   "metadata": {},
   "outputs": [],
   "source": [
    "# Create a DataFrame to display the results\n",
    "results_df = pd.DataFrame(results, columns=[\"Model\", \"Mean CV R² Score\"])\n",
    "print(\"\\nModel Performance Metrics using Cross-Validation for R² Score:\")\n",
    "print(results_df)\n",
    "\n",
    "# To demonstrate predictions and plot results, let's still split the data\n",
    "X_train, X_test, y_train, y_test = train_test_split(X, y, test_size=0.25, random_state=42)\n",
    "\n",
    "# Predict on the test set for final evaluation\n",
    "predictions = {}\n",
    "for name, model in models.items():\n",
    "    model.fit(X_train, y_train)\n",
    "    y_pred = model.predict(X_test)\n",
    "    predictions[name] = y_pred\n",
    "\n",
    "# Plotting actual vs predicted for each model vertically with smaller size\n",
    "plt.figure(figsize=(6, 10))  # Adjusted size for a more compact vertical layout\n",
    "\n",
    "for i, (name, y_pred) in enumerate(predictions.items()):\n",
    "    plt.subplot(3, 1, i + 1)  # 3 rows, 1 column\n",
    "    plt.scatter(y_test, y_pred, alpha=0.7)\n",
    "    plt.plot([y_test.min(), y_test.max()], [y_test.min(), y_test.max()], 'k--', lw=2)  # Diagonal line\n",
    "    plt.title(f'{name} Predictions')\n",
    "    plt.xlabel('Actual price')\n",
    "    plt.ylabel('Predicted price')\n",
    "    plt.xlim(y_test.min(), y_test.max())\n",
    "    plt.ylim(y_test.min(), y_test.max())\n",
    "\n",
    "plt.tight_layout()\n",
    "plt.show()"
   ]
  },
  {
   "cell_type": "code",
   "execution_count": null,
   "id": "1579107a-7ee1-4c17-a04b-8fe7662a7bf2",
   "metadata": {},
   "outputs": [],
   "source": []
  },
  {
   "cell_type": "code",
   "execution_count": null,
   "id": "91b31a74-16c6-4670-8d27-e1c944bfd68a",
   "metadata": {},
   "outputs": [],
   "source": [
    "from sklearn.linear_model import Lasso  # Lasso for regularization\n",
    "from sklearn.model_selection import GridSearchCV\n",
    "\n",
    "# Define features and target variable\n",
    "X = data.drop(columns='price')  # Features (age, sex, bmi, etc.)\n",
    "y = data['price']  # Target (insurance charges)\n",
    "\n",
    "# Set up parameter grids for each model\n",
    "param_grid = {\n",
    "    'Linear Regression': {'alpha': [0.01, 0.1, 1.0, 10.0]},  # Lasso regularization parameter\n",
    "    'Decision Tree': {'max_depth': [None, 5, 10, 15]},  # Maximum depth of the tree\n",
    "    'Random Forest': {'n_estimators': [50, 100, 200]}  # Number of trees in the forest\n",
    "}\n",
    "\n",
    "# Models\n",
    "models = {\n",
    "    \"Linear Regression\": Lasso(),\n",
    "    \"Decision Tree\": DecisionTreeRegressor(random_state=42),\n",
    "    \"Random Forest\": RandomForestRegressor(random_state=42)\n",
    "}\n",
    "\n",
    "# Store results\n",
    "results = []\n",
    "\n",
    "# Grid Search for hyperparameter tuning\n",
    "for name, model in models.items():\n",
    "    grid_search = GridSearchCV(model, param_grid[name], cv=5, scoring='r2')  # 5-fold CV for R²\n",
    "    grid_search.fit(X, y)\n",
    "    \n",
    "    # Best parameters and best score\n",
    "    best_params = grid_search.best_params_\n",
    "    best_score = grid_search.best_score_\n",
    "    \n",
    "    # Store results\n",
    "    results.append([name, best_params, best_score])\n",
    "\n",
    "# Create a DataFrame to display the results\n",
    "results_df = pd.DataFrame(results, columns=[\"Model\", \"Best Parameters\", \"Best CV R² Score\"])\n",
    "print(\"\\nBest Hyperparameters and Scores from Grid Search:\")\n",
    "print(results_df)"
   ]
  },
  {
   "cell_type": "code",
   "execution_count": null,
   "id": "fd144f37-bfa9-4808-90fb-fce12dbc6cbe",
   "metadata": {},
   "outputs": [],
   "source": []
  },
  {
   "cell_type": "code",
   "execution_count": null,
   "id": "ed6bc45e-8c60-42df-848e-ced533fa0c55",
   "metadata": {},
   "outputs": [],
   "source": []
  },
  {
   "cell_type": "code",
   "execution_count": null,
   "id": "d58c6def-1a23-437d-9c9b-4d7f98db636e",
   "metadata": {},
   "outputs": [],
   "source": [
    "## Random Forest ##"
   ]
  },
  {
   "cell_type": "markdown",
   "id": "b2f8c9e2-8451-4a0c-81e2-5c855cf6957d",
   "metadata": {},
   "source": [
    "MODEL CREATION¶\n",
    "To solve the problem and predict house rents I have decided to use random forest and linear regression."
   ]
  },
  {
   "cell_type": "code",
   "execution_count": null,
   "id": "bc1aabca-7302-4a4b-afe1-39d5c3450e4a",
   "metadata": {},
   "outputs": [],
   "source": [
    "#create object from RandomForestRegressor\n",
    "model = RandomForestRegressor()"
   ]
  },
  {
   "cell_type": "code",
   "execution_count": null,
   "id": "7a7850ab-042d-4c8c-8fc1-c937c9b02f5e",
   "metadata": {},
   "outputs": [],
   "source": [
    "# fit model\n",
    "model.fit(X_train,y_train)"
   ]
  },
  {
   "cell_type": "code",
   "execution_count": null,
   "id": "0fb14cf4-48a9-47a2-bc28-0a645e581895",
   "metadata": {},
   "outputs": [],
   "source": [
    "model.score(X_train, y_train)"
   ]
  },
  {
   "cell_type": "code",
   "execution_count": null,
   "id": "a0c4c1a1-f0ea-49bb-adc0-aabb23dc8025",
   "metadata": {},
   "outputs": [],
   "source": [
    "predict = model.predict(X_test)"
   ]
  },
  {
   "cell_type": "code",
   "execution_count": null,
   "id": "0e90ceae-62ce-44e9-a351-45d23a1762bf",
   "metadata": {},
   "outputs": [],
   "source": [
    "# Plot results\n",
    "plt.plot(y_test.to_numpy()[:50])\n",
    "plt.plot(predict[:50])\n",
    "plt.show()"
   ]
  },
  {
   "cell_type": "code",
   "execution_count": null,
   "id": "f22e01e6-d8a8-4a28-b529-3183d215eb87",
   "metadata": {},
   "outputs": [],
   "source": [
    "# see score\n",
    "r2_score(predict, y_test)"
   ]
  },
  {
   "cell_type": "code",
   "execution_count": null,
   "id": "ddb15660-f271-4178-95ea-01673a6bb848",
   "metadata": {},
   "outputs": [],
   "source": [
    "from sklearn.metrics import mean_squared_error \n",
    "\n",
    "rms = mean_squared_error(y_test, predict, squared=False)\n",
    "print(rms)"
   ]
  },
  {
   "cell_type": "code",
   "execution_count": null,
   "id": "2b4e7283-2506-4916-a920-4873aeb72c57",
   "metadata": {},
   "outputs": [],
   "source": [
    "plt.scatter(y_test, predict)\n",
    "plt.show()"
   ]
  },
  {
   "cell_type": "markdown",
   "id": "1926606b-f809-48bf-9aeb-3d83d2198502",
   "metadata": {},
   "source": [
    "Random Forest considers output from every single tree. This is a simple implementation without any hyperparameters tuning and at first, it looks as if the performance is similar to Decision Tree implemented before. Let’s see how it performs in general.\n",
    "I started with RF as the first algorithm. It looks really good on the example plot as the model’s predictions mostly cover house prices\n",
    "\n",
    "That means that the accuracy reached the level of 83% and on average, the error of the prediction should be within the range of 856 PLN from the real price. It depends on our expectations of how acceptable this difference is. In my opinion, for estimation purposes those values are acceptable."
   ]
  },
  {
   "cell_type": "markdown",
   "id": "0513b049-9be5-4a57-9214-183530f3b87f",
   "metadata": {},
   "source": [
    "The Mean Absolute Error is 856 which means that most predictions should differ from the real price up to 856PLN. That’s actually a satisfying result."
   ]
  },
  {
   "cell_type": "markdown",
   "id": "ade140b4-ffa0-49c8-afc1-27ef55610bef",
   "metadata": {},
   "source": [
    "## LINEAR REGRESSION"
   ]
  },
  {
   "cell_type": "code",
   "execution_count": null,
   "id": "27e7495d-b3a3-4a09-bb80-ef93fd7cf9ef",
   "metadata": {},
   "outputs": [],
   "source": [
    "#build and train a linear regression model\n",
    "from sklearn.linear_model import LinearRegression\n",
    "\n",
    "lr = LinearRegression()\n",
    "lr.fit(X_train, y_train)\n",
    "plt.scatter(lr.predict(X_train), y_train)\n",
    "plt.xlabel('Predicted value of Y')\n",
    "plt.ylabel('Real value of Y')\n",
    "plt.show()"
   ]
  },
  {
   "cell_type": "code",
   "execution_count": null,
   "id": "05a76f7b-7efb-497f-9bdb-d452b15283c4",
   "metadata": {},
   "outputs": [],
   "source": [
    "from sklearn.linear_model import LinearRegression\n",
    "lr = LinearRegression()\n",
    "lr.fit(X_train, y_train)"
   ]
  },
  {
   "cell_type": "code",
   "execution_count": null,
   "id": "8cc39995-ada1-40a6-9419-2b355ac9f281",
   "metadata": {},
   "outputs": [],
   "source": [
    "lr.score(X_train, y_train)"
   ]
  },
  {
   "cell_type": "code",
   "execution_count": null,
   "id": "f8939ea5-5b92-4295-93ee-9a2a5fca2e61",
   "metadata": {},
   "outputs": [],
   "source": [
    "# Predict\n",
    "result = lr.predict(X_test)"
   ]
  },
  {
   "cell_type": "code",
   "execution_count": null,
   "id": "930741b9-f6d0-446e-9188-85350f41a54d",
   "metadata": {},
   "outputs": [],
   "source": [
    "# Plot results\n",
    "plt.plot(y_test.to_numpy()[:50])\n",
    "plt.plot(result[:50])\n",
    "plt.show()"
   ]
  },
  {
   "cell_type": "code",
   "execution_count": null,
   "id": "b1dbaee5-8de2-4324-ba2e-ee868f1eff70",
   "metadata": {},
   "outputs": [],
   "source": [
    "# see score\n",
    "r2_score(result, y_test)"
   ]
  },
  {
   "cell_type": "code",
   "execution_count": null,
   "id": "296c1125-f267-4167-9b39-2efdea282484",
   "metadata": {},
   "outputs": [],
   "source": [
    "rms = mean_squared_error(y_test, result, squared=False)\n",
    "print(rms)"
   ]
  },
  {
   "cell_type": "markdown",
   "id": "2488cd40-ca9e-4ffc-ac69-8aa118d034e5",
   "metadata": {},
   "source": [
    "Linear Regression seems to be less accurate than the other algorithms for our dataset. Let’s remember that Linear Regression expects linear dependency between features and if there are some non-linear relationships, this algorithm might struggle to capture those relations.\n",
    "\n",
    "The accuracy level is 61% which is much less in comparison with Random Forest. It is worth mentioning that the Linear Regression algorithm is much more sensitive to outliers in the dataset. would have to clean the data with much more precision but at the same time, we might have lost some data regarding particular houses"
   ]
  },
  {
   "cell_type": "markdown",
   "id": "92249e01-7953-494b-bded-edc34f7fca01",
   "metadata": {},
   "source": [
    "## Decision Tree"
   ]
  },
  {
   "cell_type": "code",
   "execution_count": null,
   "id": "e602e16d-1d50-46d1-a606-9350b411e00d",
   "metadata": {},
   "outputs": [],
   "source": [
    "from sklearn.tree import DecisionTreeRegressor\n",
    "# Fit regression model\n",
    "deTree = DecisionTreeRegressor()\n",
    "deTree.fit(X_train, y_train)"
   ]
  },
  {
   "cell_type": "code",
   "execution_count": null,
   "id": "838fb012-9d79-47ac-ba4f-b97d2e88a6ee",
   "metadata": {},
   "outputs": [],
   "source": [
    "deTree.score(X_train, y_train)"
   ]
  },
  {
   "cell_type": "code",
   "execution_count": null,
   "id": "586056df-435a-4d8f-8c0e-ac085deb09d5",
   "metadata": {},
   "outputs": [],
   "source": [
    "# Predict\n",
    "dt_pred = deTree.predict(X_test)"
   ]
  },
  {
   "cell_type": "code",
   "execution_count": null,
   "id": "74b3eb9e-c605-4795-934b-5e71db5f9975",
   "metadata": {},
   "outputs": [],
   "source": [
    "# Plot results\n",
    "plt.plot(y_test.to_numpy()[:50])\n",
    "plt.plot(dt_pred[:50])\n",
    "plt.show()"
   ]
  },
  {
   "cell_type": "code",
   "execution_count": null,
   "id": "3aef7c31-6638-44c3-b5ac-b7ef85edabc3",
   "metadata": {},
   "outputs": [],
   "source": [
    "# see score\n",
    "r2_score(dt_pred, y_test)"
   ]
  },
  {
   "cell_type": "code",
   "execution_count": null,
   "id": "1336d261-2e5d-4776-9046-ddb36581e533",
   "metadata": {},
   "outputs": [],
   "source": [
    "rms = mean_squared_error(y_test, dt_pred, squared=False)\n",
    "print(rms)"
   ]
  },
  {
   "cell_type": "markdown",
   "id": "f1971fc8-7eaf-45e7-8b77-ef611ca3af6c",
   "metadata": {},
   "source": [
    "Decision Trees are prone to overfitting so we should try to keep the dataset clean from the noise and the tree should not be too deep. Let’s see the performance measurements:"
   ]
  },
  {
   "cell_type": "markdown",
   "id": "639c674c-6950-466b-89e4-6db7d8e15710",
   "metadata": {},
   "source": [
    "I visualized the data and analyzed it. The data was prepared for training and I compared Random Forest, Linear Regression and Decision Tree algorithms. In the end, the Random Forest algorithm appeared to be the best choice with over 83% accuracy."
   ]
  },
  {
   "cell_type": "code",
   "execution_count": null,
   "id": "62d43335-38f3-4b6c-99b8-733622508265",
   "metadata": {},
   "outputs": [],
   "source": [
    "#from sklearn.model_selection import GridSearchCV\n",
    "\n",
    "#param_grid = {\n",
    "    'n_estimators': [100, 200, 300],\n",
    "    'max_depth': [None, 10, 20],\n",
    "    'min_samples_split': [2, 5],\n",
    "    'min_samples_leaf': [1, 2],\n",
    "}\n",
    "#grid_search = GridSearchCV(RandomForestRegressor(), param_grid, cv=5, scoring='r2')\n",
    "#grid_search.fit(X_train, y_train)\n",
    "#print(\"Best Parameters:\", grid_search.best_params_)"
   ]
  },
  {
   "cell_type": "code",
   "execution_count": null,
   "id": "0595a87a-3ae9-4096-8bb3-7181541957b5",
   "metadata": {},
   "outputs": [],
   "source": []
  }
 ],
 "metadata": {
  "kernelspec": {
   "display_name": "Python 3 (ipykernel)",
   "language": "python",
   "name": "python3"
  },
  "language_info": {
   "codemirror_mode": {
    "name": "ipython",
    "version": 3
   },
   "file_extension": ".py",
   "mimetype": "text/x-python",
   "name": "python",
   "nbconvert_exporter": "python",
   "pygments_lexer": "ipython3",
   "version": "3.12.4"
  }
 },
 "nbformat": 4,
 "nbformat_minor": 5
}
