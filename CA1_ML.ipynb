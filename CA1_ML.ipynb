{
 "cells": [
  {
   "cell_type": "markdown",
   "id": "9a72392c-ea87-48b1-a037-9c0dae5274bc",
   "metadata": {},
   "source": [
    "## Reading and Understanding the Data ##"
   ]
  },
  {
   "cell_type": "code",
   "execution_count": null,
   "id": "e65e8b3b-8fe4-4611-ad9b-a717034bcda3",
   "metadata": {},
   "outputs": [],
   "source": [
    "#Import libraries\n",
    "import pandas as pd\n",
    "import numpy as np\n",
    "import matplotlib.pyplot as plt\n",
    "import seaborn as sns\n",
    "\n",
    "\n",
    "from sklearn.model_selection import train_test_split, cross_val_score\n",
    "from sklearn.compose import ColumnTransformer\n",
    "from sklearn.pipeline import Pipeline\n",
    "from sklearn.preprocessing import LabelEncoder, OneHotEncoder\n",
    "from sklearn.preprocessing import StandardScaler, MinMaxScaler\n",
    "\n",
    "from sklearn.linear_model import LinearRegression\n",
    "from sklearn.ensemble import RandomForestRegressor\n",
    "from sklearn.tree import DecisionTreeRegressor\n",
    "from sklearn.metrics import mean_absolute_error, mean_squared_error, r2_score\n",
    "\n",
    "import warnings\n",
    "warnings.filterwarnings('ignore')"
   ]
  },
  {
   "cell_type": "code",
   "execution_count": null,
   "id": "87d4872b-e48a-4ace-b155-9de73217335e",
   "metadata": {},
   "outputs": [],
   "source": [
    "# Define the labels for the apartments_rent_pl_2024_06 datafile\n",
    "col_names = [\"id\", \"city\", \"type\", \"square_meters\", \"rooms\", \"floor\", \"floor_count\", \"build_year\", \"latitude\", \"longitude\", \"centre_dist\", \"poi_count\", \"school_dist\", \"clinic_dist\", \"post_o_dist\", \"kindergarten_dist\", \"restaurant_dist\", \"college_dist\", \"pharmacy_dist\", \"ownership\", \"building_material\", \"condition\", \"has_parking\", \"has_balcony\", \"has_elevator\", \"has_security\", \"has_storage\", \"price\"]\n",
    "\n",
    "# load dataset\n",
    "data = pd.read_csv(\"apartments_rent_pl_2024_06.csv\", header = 0, names = col_names)"
   ]
  },
  {
   "cell_type": "markdown",
   "id": "12ea1681-b05e-44f1-9a7b-3acf7c90f3c6",
   "metadata": {},
   "source": [
    " Let’s take a quick look at the dataframe description."
   ]
  },
  {
   "cell_type": "markdown",
   "id": "7e9b372e-f31e-43d2-bcc6-bee21f088484",
   "metadata": {},
   "source": [
    "Data Fields\n",
    "\n",
    "•  city - the name of the city where the property is located\n",
    "\n",
    "•  type - type of the building\n",
    "\n",
    "•  squareMeters - the size of the apartment in square meters\n",
    "\n",
    "•  rooms - number of rooms in the apartment\n",
    "\n",
    "•  floor / floorCount - the floor where the apartment is located and the total number of floors in the building\n",
    "\n",
    "•  buildYear - the year when the building was built\n",
    "\n",
    "•  latitude, longitude - geo coordinate of the property\n",
    "\n",
    "•  centreDistance - distance from the city centre in km\n",
    "\n",
    "• poiCount - number of points of interest in 500m range from the apartment (schools, clinics, post offices, kindergartens, restaurants, colleges,\n",
    "   pharmacies)\n",
    "\n",
    "• [poiName]Distance - distance to the nearest point of interest (schools, clinics, post offices, kindergartens, restaurants, colleges, pharmacies)\n",
    "\n",
    "•  ownership - the type of property ownership\n",
    "\n",
    "•  condition - the condition of the apartment\n",
    "\n",
    "• has[features] - whether the property has key features such as assigned parking space, balcony, elevator, security, storage room\n",
    "\n",
    "•  price - offer price in Polish Zloty"
   ]
  },
  {
   "cell_type": "code",
   "execution_count": null,
   "id": "460f6129-2438-4503-ab0a-0e93600e23bc",
   "metadata": {},
   "outputs": [],
   "source": [
    "# Check the head of the dataset\n",
    "data.head()"
   ]
  },
  {
   "cell_type": "code",
   "execution_count": null,
   "id": "9f2196da-eb21-432c-8991-db2f9f01575d",
   "metadata": {},
   "outputs": [],
   "source": [
    "data_new = data[data[\"city\"] == \"warszawa\"]"
   ]
  },
  {
   "cell_type": "markdown",
   "id": "7b66af42-f00c-41c6-ad54-237edbe2bfa0",
   "metadata": {},
   "source": [
    "## Data Inspection ##"
   ]
  },
  {
   "cell_type": "code",
   "execution_count": null,
   "id": "1239b87a-e9e6-4765-8b20-36daa57304e1",
   "metadata": {},
   "outputs": [],
   "source": [
    "data_new.shape"
   ]
  },
  {
   "cell_type": "code",
   "execution_count": null,
   "id": "f6ae4c41-4603-4d16-9dc8-0e3fbc79477b",
   "metadata": {},
   "outputs": [],
   "source": [
    "data_new.info()"
   ]
  },
  {
   "cell_type": "markdown",
   "id": "41d7535c-308b-43cc-89f2-b914a4810ec2",
   "metadata": {},
   "source": [
    "I got 8849 rows with 28 features. "
   ]
  },
  {
   "cell_type": "code",
   "execution_count": null,
   "id": "dec28ccd-c08b-4a60-a0a4-af8b906604c8",
   "metadata": {},
   "outputs": [],
   "source": [
    "data_new.describe()"
   ]
  },
  {
   "cell_type": "markdown",
   "id": "942a4e68-3065-4ec0-9435-f1a3d7743662",
   "metadata": {},
   "source": [
    "The one thing that’s worth noticing might be that 75% of the data has a price of 4000 PLN, when the maximum is 19500 PLN. That might mean there are some outliers in the dataset."
   ]
  },
  {
   "cell_type": "code",
   "execution_count": null,
   "id": "d4ce07dd-2304-48a1-b698-b48726e0cb88",
   "metadata": {},
   "outputs": [],
   "source": [
    "data_new.describe(include=object)"
   ]
  },
  {
   "cell_type": "code",
   "execution_count": null,
   "id": "d90c4137-d4bf-4d19-8ad7-6843cf30830a",
   "metadata": {},
   "outputs": [],
   "source": [
    "#data= data.rename(columns={\"squareMeters\": \"square_meters\"})"
   ]
  },
  {
   "cell_type": "code",
   "execution_count": null,
   "id": "62b63bff-9132-49fc-96a0-c4b1b0702aa1",
   "metadata": {},
   "outputs": [],
   "source": [
    "#data= data.rename(columns={\"floorCount\": \"floor_count\"})"
   ]
  },
  {
   "cell_type": "code",
   "execution_count": null,
   "id": "ce66450f-70b3-4874-82f7-a7bf86cccf77",
   "metadata": {},
   "outputs": [],
   "source": [
    "#data= data.rename(columns={\"buildYear\": \"build_year\"})"
   ]
  },
  {
   "cell_type": "code",
   "execution_count": null,
   "id": "ace98cc5-fe65-4c8d-b55d-ef4a954c0908",
   "metadata": {},
   "outputs": [],
   "source": [
    "#data= data.rename(columns={\"centreDistance\": \"centre_dist\"})"
   ]
  },
  {
   "cell_type": "code",
   "execution_count": null,
   "id": "cc834467-fbdf-4d6f-807d-0601dd17e387",
   "metadata": {},
   "outputs": [],
   "source": [
    "#data= data.rename(columns={\"centreDistance\": \"centre_distance\"})"
   ]
  },
  {
   "cell_type": "code",
   "execution_count": null,
   "id": "16f4673d-9e4a-4dcc-9ff2-be3f71f50cae",
   "metadata": {},
   "outputs": [],
   "source": [
    "#data= data.rename(columns={\"poiCount\": \"poi_count\"})"
   ]
  },
  {
   "cell_type": "code",
   "execution_count": null,
   "id": "15da98c6-4971-4ebb-8d9f-42b7f239760d",
   "metadata": {},
   "outputs": [],
   "source": [
    "#data= data.rename(columns={\"schoolDistance\": \"school_dist\"})"
   ]
  },
  {
   "cell_type": "code",
   "execution_count": null,
   "id": "ef5e37b9-6f3a-4722-930e-9d21afd41909",
   "metadata": {},
   "outputs": [],
   "source": [
    "#data= data.rename(columns={\"clinicDistance\": \"clinic_dist\"})"
   ]
  },
  {
   "cell_type": "code",
   "execution_count": null,
   "id": "c174ce13-389a-4bbf-9566-e2cca6c58fb0",
   "metadata": {},
   "outputs": [],
   "source": [
    "#data= data.rename(columns={\"postOfficeDistance\": \"post_office_dist\"})"
   ]
  },
  {
   "cell_type": "code",
   "execution_count": null,
   "id": "20f5e3e6-e14f-4cb1-9339-c2baa14ae262",
   "metadata": {},
   "outputs": [],
   "source": [
    "#data= data.rename(columns={\"kindergartenDistance\": \"kindergarten_dist\"})"
   ]
  },
  {
   "cell_type": "code",
   "execution_count": null,
   "id": "9d0a1ef8-0e79-4525-80c6-23dbc00bdde5",
   "metadata": {},
   "outputs": [],
   "source": [
    "#data= data.rename(columns={\"restaurantDistance\": \"restaurant_dist\"})"
   ]
  },
  {
   "cell_type": "code",
   "execution_count": null,
   "id": "235da928-d7fa-4d7b-a594-2b59498352e6",
   "metadata": {},
   "outputs": [],
   "source": [
    "#data= data.rename(columns={\"collegeDistance\": \"college_dist\"})"
   ]
  },
  {
   "cell_type": "code",
   "execution_count": null,
   "id": "4c05ee6f-3ec8-4f04-9bcf-fc6cd572a08d",
   "metadata": {},
   "outputs": [],
   "source": [
    "#data= data.rename(columns={\"pharmacyDistance\": \"pharmacy_dist\"})"
   ]
  },
  {
   "cell_type": "code",
   "execution_count": null,
   "id": "5a01a08d-82b2-4b91-a051-fb632b02f58e",
   "metadata": {},
   "outputs": [],
   "source": [
    "#data= data.rename(columns={\"buildingMaterial\": \"building_material\"})"
   ]
  },
  {
   "cell_type": "code",
   "execution_count": null,
   "id": "f3e264d8-a378-41a0-8d6d-64b5e851464b",
   "metadata": {},
   "outputs": [],
   "source": [
    "#data= data.rename(columns={\"hasParkingSpace\": \"has_parking_space\"})"
   ]
  },
  {
   "cell_type": "code",
   "execution_count": null,
   "id": "f4d46fcc-911b-401b-a86f-1bf9347eff73",
   "metadata": {},
   "outputs": [],
   "source": [
    "#data= data.rename(columns={\"hasBalcony\": \"has_balcony\"})"
   ]
  },
  {
   "cell_type": "code",
   "execution_count": null,
   "id": "e064c4d7-9ccf-4dcb-8078-d81f08f0eac5",
   "metadata": {},
   "outputs": [],
   "source": [
    "#data= data.rename(columns={\"hasElevator\": \"has_elevator\"})"
   ]
  },
  {
   "cell_type": "code",
   "execution_count": null,
   "id": "0a70220e-0f32-422d-aae1-da308af9a962",
   "metadata": {},
   "outputs": [],
   "source": [
    "#data= data.rename(columns={\"hasSecurity\": \"has_security\"})"
   ]
  },
  {
   "cell_type": "code",
   "execution_count": null,
   "id": "2602c467-01b3-45fd-aec6-42e44bfcddf4",
   "metadata": {},
   "outputs": [],
   "source": [
    "#data= data.rename(columns={\"hasStorageRoom\": \"has_storage_room\"})"
   ]
  },
  {
   "cell_type": "markdown",
   "id": "aba6e408-5870-4f84-a4a2-9f91bac473ff",
   "metadata": {},
   "source": [
    "## Data Cleaning ##"
   ]
  },
  {
   "cell_type": "code",
   "execution_count": null,
   "id": "e090fc8c-2000-4d0b-ad83-04b2be8f920e",
   "metadata": {},
   "outputs": [],
   "source": [
    "# Check for missing values\n",
    "missing_counts=data_new.isnull().sum()\n",
    "print(\"Missing values in each column:\")\n",
    "print(missing_counts)"
   ]
  },
  {
   "cell_type": "markdown",
   "id": "dd062ba9-2929-4545-a1b6-fe108633ea56",
   "metadata": {},
   "source": [
    "Remove variables that contain more than 20% missing values."
   ]
  },
  {
   "cell_type": "code",
   "execution_count": null,
   "id": "03d41d5f-5f21-42d6-a888-b5fb5f807254",
   "metadata": {},
   "outputs": [],
   "source": [
    "data_new.drop([ \"type\", \"building_material\", \"condition\"],axis=1, inplace=True)"
   ]
  },
  {
   "cell_type": "code",
   "execution_count": null,
   "id": "246a5f5a-792d-4e13-a4d2-547645a5c1cc",
   "metadata": {},
   "outputs": [],
   "source": [
    "# Replace missing categorical values with mode\n",
    "categorical_cols = data_new.select_dtypes(include=[object]).columns\n",
    "for col in categorical_cols:\n",
    "    mode_value = data_new[col].mode()[0]\n",
    "    data_new[col].fillna(mode_value, inplace=True)"
   ]
  },
  {
   "cell_type": "code",
   "execution_count": null,
   "id": "22c501b0-f75b-409b-b0d4-5e181b822530",
   "metadata": {},
   "outputs": [],
   "source": [
    "# Replace missing numeric values with median\n",
    "numeric_cols = data_new.select_dtypes(include=[np.number]).columns\n",
    "for col in numeric_cols:\n",
    "    median_value = data_new[col].median()\n",
    "    data_new[col].fillna(median_value, inplace=True)"
   ]
  },
  {
   "cell_type": "code",
   "execution_count": null,
   "id": "c0f05d94-bd71-456a-9525-a82907b8cdc2",
   "metadata": {},
   "outputs": [],
   "source": [
    "missing_counts=data_new.isnull().sum()\n",
    "print(\"Missing values in each column:\")\n",
    "print(missing_counts)"
   ]
  },
  {
   "cell_type": "code",
   "execution_count": null,
   "id": "f8b35e90-435a-4045-b975-c13265715442",
   "metadata": {},
   "outputs": [],
   "source": [
    "data_new.drop([\"id\", \"city\"],axis=1, inplace=True)"
   ]
  },
  {
   "cell_type": "markdown",
   "id": "f2a9539e-3945-4c8b-92e1-7499bbceaac1",
   "metadata": {},
   "source": [
    "I removed the \"id\" column from the dataset since it doesn't contribute valuable information for building machine learning models. This column is a unique identifier and does not help in predicting outcomes or understanding patterns in the data."
   ]
  },
  {
   "cell_type": "markdown",
   "id": "4036bd1f-f1d3-47dd-9601-542ecb5f5e78",
   "metadata": {},
   "source": [
    "## Handling categorical data ##"
   ]
  },
  {
   "cell_type": "markdown",
   "id": "295ae1c8-243e-45ad-ab5f-c5466d44a515",
   "metadata": {},
   "source": [
    "There are categorical variables, so I need to encode these as numbers."
   ]
  },
  {
   "cell_type": "code",
   "execution_count": null,
   "id": "e301a023-86bf-4e98-98cb-cf923ff2bc57",
   "metadata": {},
   "outputs": [],
   "source": [
    "# Encoding categorical variables\n",
    "le = LabelEncoder()"
   ]
  },
  {
   "cell_type": "code",
   "execution_count": null,
   "id": "e5883d07-116a-4c53-a6ba-46fcc0acbaa9",
   "metadata": {},
   "outputs": [],
   "source": [
    "for column in data_new.select_dtypes(include = object).columns.tolist():\n",
    "    data_new[column] = le.fit_transform(data_new[column])"
   ]
  },
  {
   "cell_type": "code",
   "execution_count": null,
   "id": "17870bd0-0946-4d78-80de-47afddac448a",
   "metadata": {},
   "outputs": [],
   "source": [
    "data_new.info()"
   ]
  },
  {
   "cell_type": "markdown",
   "id": "7046eb6d-f018-4a90-a20e-5cae5b54c5d3",
   "metadata": {},
   "source": [
    "## Visualising Variables ##"
   ]
  },
  {
   "cell_type": "code",
   "execution_count": null,
   "id": "66b05e73-88f1-4ee2-afa6-795e182fbc25",
   "metadata": {},
   "outputs": [],
   "source": [
    "top_features = data_new.corr()[['price']].sort_values(by=['price'],ascending=False).head(30)\n",
    "plt.figure(figsize=(5,10))\n",
    "sns.heatmap(top_features,cmap='rainbow',annot=True,annot_kws={\"size\": 16},vmin=-1)"
   ]
  },
  {
   "cell_type": "code",
   "execution_count": null,
   "id": "5cccc2d1-25a7-420f-8e7a-51398811155e",
   "metadata": {},
   "outputs": [],
   "source": [
    "sns.scatterplot(x='square_meters', y='price', data=data)"
   ]
  },
  {
   "cell_type": "code",
   "execution_count": null,
   "id": "8df18bce-32af-4366-be5a-ade960b6b4cf",
   "metadata": {},
   "outputs": [],
   "source": [
    "sns.scatterplot(x='rooms', y='price', data=data)"
   ]
  },
  {
   "cell_type": "code",
   "execution_count": null,
   "id": "4f8b6fb0-a14b-4d45-bc1e-b69d9eac47f8",
   "metadata": {},
   "outputs": [],
   "source": [
    "#data_new.drop(columns=[\"longitude\", \"floor_count\", \"build_year\", \"centre_dist\", \"clinic_dist\", \"post_o_dist\", \"restaurant_dist\", \"college_dist\", \"has_storage\", \"ownership\"], inplace = True)"
   ]
  },
  {
   "cell_type": "code",
   "execution_count": null,
   "id": "37232cca-65d8-4056-a96a-72f9cc115ba9",
   "metadata": {},
   "outputs": [],
   "source": [
    "data_new.head()"
   ]
  },
  {
   "cell_type": "markdown",
   "id": "407f23b0-43bf-4194-9989-4630f96cfe02",
   "metadata": {},
   "source": [
    "## Target variable ##"
   ]
  },
  {
   "cell_type": "markdown",
   "id": "c84f72f1-65b9-40a8-a584-574c2366be13",
   "metadata": {},
   "source": [
    "I’m going to train the model to predict the house rental price based on the above features..."
   ]
  },
  {
   "cell_type": "code",
   "execution_count": null,
   "id": "232213c7-6e89-4ab1-bc57-9467c93f9f48",
   "metadata": {},
   "outputs": [],
   "source": [
    "# Split features and target variabl\n",
    "X = data_new.drop(columns=[\"price\"])  # Replace 'target_column' with actual name\n",
    "y = data_new['price']"
   ]
  },
  {
   "cell_type": "code",
   "execution_count": null,
   "id": "77fcc694-ee0f-45b1-8f04-6e52456d09c4",
   "metadata": {},
   "outputs": [],
   "source": [
    "# split Train and Test\n",
    "X_train, X_test, y_train, y_test = train_test_split(X, y, train_size=0.1, random_state=42)"
   ]
  },
  {
   "cell_type": "code",
   "execution_count": null,
   "id": "9a7c3aac-869b-4bcc-98cc-d36a09e73d3b",
   "metadata": {},
   "outputs": [],
   "source": [
    "print(\"x_train shape: \", X_train.shape)\n",
    "print(\"x_test shape: \", X_test.shape)\n",
    "print(\"y_train shape: \", y_train.shape)\n",
    "print(\"y_test shape: \", y_test.shape)"
   ]
  },
  {
   "cell_type": "code",
   "execution_count": null,
   "id": "5551e89a-01fb-43a9-a35e-4b418e74a881",
   "metadata": {},
   "outputs": [],
   "source": [
    "scaler = MinMaxScaler()\n",
    "X_train= scaler.fit_transform(X_train)\n",
    "X_test= scaler.transform(X_test)"
   ]
  },
  {
   "cell_type": "code",
   "execution_count": null,
   "id": "784cf91f-6c70-4ff0-a635-ee61372c7595",
   "metadata": {},
   "outputs": [],
   "source": [
    "#scaler = StandardScaler()\n",
    "#X_train = scaler.fit_transform(X_train)\n",
    "#X_test = scaler.transform(X_test)"
   ]
  },
  {
   "cell_type": "code",
   "execution_count": null,
   "id": "778c3a2a-521b-4a43-9b75-814816400d39",
   "metadata": {},
   "outputs": [],
   "source": [
    "# Models\n",
    "models = {\n",
    "    \"Linear Regression\": LinearRegression(),\n",
    "    \"Random Forest\": RandomForestRegressor(n_estimators=100, random_state=42)\n",
    "}"
   ]
  },
  {
   "cell_type": "code",
   "execution_count": null,
   "id": "65835366-f8d3-457d-810e-06b893bd6d5d",
   "metadata": {},
   "outputs": [],
   "source": [
    "# Store results\n",
    "results_1 = []\n",
    "\n",
    "# Train and evaluate models\n",
    "for name, model in models.items():\n",
    "    # Train the model\n",
    "    model.fit(X_train, y_train)\n",
    "    \n",
    "    # Predict on the test set\n",
    "    y_pred = model.predict(X_test)\n",
    "    \n",
    "    # Calculate performance metrics\n",
    "    mae = mean_absolute_error(y_test, y_pred)\n",
    "    mse = mean_squared_error(y_test, y_pred)\n",
    "    rmse = np.sqrt(mse)\n",
    "    r2 = r2_score(y_test, y_pred)\n",
    "    \n",
    "    # Append results to the list\n",
    "    results_1.append([name, mae, mse, rmse, r2])\n",
    "\n",
    "# Create a DataFrame to display the results\n",
    "results_1_data = pd.DataFrame(results_1, columns=[\"Model\", \"MAE\", \"MSE\", \"RMSE\", \"R2 Score\"])\n",
    "print(results_1_data)"
   ]
  },
  {
   "cell_type": "code",
   "execution_count": null,
   "id": "c5055c4b-cbf4-4c13-90d0-4280eaa60f9e",
   "metadata": {},
   "outputs": [],
   "source": [
    "# split Train and Test\n",
    "X_train, X_test, y_train, y_test = train_test_split(X, y, train_size=0.15, random_state=42)"
   ]
  },
  {
   "cell_type": "code",
   "execution_count": null,
   "id": "4f0d43a6-adcb-41e3-b7ae-a6f3892eab54",
   "metadata": {},
   "outputs": [],
   "source": [
    "print(\"x_train shape: \", X_train.shape)\n",
    "print(\"x_test shape: \", X_test.shape)\n",
    "print(\"y_train shape: \", y_train.shape)\n",
    "print(\"y_test shape: \", y_test.shape)"
   ]
  },
  {
   "cell_type": "code",
   "execution_count": null,
   "id": "93767076-a9d5-4225-9908-f56fbac7cc66",
   "metadata": {},
   "outputs": [],
   "source": [
    "scaler = MinMaxScaler()\n",
    "X_train= scaler.fit_transform(X_train)\n",
    "X_test= scaler.transform(X_test)"
   ]
  },
  {
   "cell_type": "code",
   "execution_count": null,
   "id": "f3f953ec-991b-4b86-bf0a-0a85087e9a83",
   "metadata": {},
   "outputs": [],
   "source": [
    "# Models\n",
    "models = {\n",
    "    \"Linear Regression\": LinearRegression(),\n",
    "    \"Random Forest\": RandomForestRegressor(n_estimators=100, random_state=42)\n",
    "}"
   ]
  },
  {
   "cell_type": "code",
   "execution_count": null,
   "id": "a80d3784-cf23-4952-8cf5-d8cfd03d5052",
   "metadata": {},
   "outputs": [],
   "source": [
    "# Store results\n",
    "results_2 = []\n",
    "\n",
    "# Train and evaluate models\n",
    "for name, model in models.items():\n",
    "    # Train the model\n",
    "    model.fit(X_train, y_train)\n",
    "    \n",
    "    # Predict on the test set\n",
    "    y_pred = model.predict(X_test)\n",
    "    \n",
    "    # Calculate performance metrics\n",
    "    mae = mean_absolute_error(y_test, y_pred)\n",
    "    mse = mean_squared_error(y_test, y_pred)\n",
    "    rmse = np.sqrt(mse)\n",
    "    r2 = r2_score(y_test, y_pred)\n",
    "    \n",
    "    # Append results to the list\n",
    "    results_2.append([name, mae, mse, rmse, r2])\n",
    "\n",
    "# Create a DataFrame to display the results\n",
    "results_2_data = pd.DataFrame(results_2, columns=[\"Model\", \"MAE\", \"MSE\", \"RMSE\", \"R2 Score\"])\n",
    "print(results_2_data)"
   ]
  },
  {
   "cell_type": "code",
   "execution_count": null,
   "id": "c950adb2-53d0-4078-8e5a-041d5553d7c1",
   "metadata": {},
   "outputs": [],
   "source": [
    "# split Train and Test\n",
    "X_train, X_test, y_train, y_test = train_test_split(X, y, train_size=0.25, random_state=42)"
   ]
  },
  {
   "cell_type": "code",
   "execution_count": null,
   "id": "7baac1cc-7ed6-4f83-a399-3117a2df0add",
   "metadata": {},
   "outputs": [],
   "source": [
    "print(\"x_train shape: \", X_train.shape)\n",
    "print(\"x_test shape: \", X_test.shape)\n",
    "print(\"y_train shape: \", y_train.shape)\n",
    "print(\"y_test shape: \", y_test.shape)"
   ]
  },
  {
   "cell_type": "code",
   "execution_count": null,
   "id": "dfe8d786-8967-41df-bf2a-80fef5885b38",
   "metadata": {},
   "outputs": [],
   "source": [
    "scaler = MinMaxScaler()\n",
    "X_train= scaler.fit_transform(X_train)\n",
    "X_test= scaler.transform(X_test)"
   ]
  },
  {
   "cell_type": "code",
   "execution_count": null,
   "id": "ef09cebf-d2be-4afd-ae2a-7c1d799d8e79",
   "metadata": {},
   "outputs": [],
   "source": [
    "# Models\n",
    "models = {\n",
    "    \"Linear Regression\": LinearRegression(),\n",
    "    \"Random Forest\": RandomForestRegressor(n_estimators=100, random_state=42)}"
   ]
  },
  {
   "cell_type": "code",
   "execution_count": null,
   "id": "8d2c95a7-5d0a-4808-87c5-6305793fbad2",
   "metadata": {},
   "outputs": [],
   "source": [
    "# Store results\n",
    "results_3 = []\n",
    "\n",
    "# Train and evaluate models\n",
    "for name, model in models.items():\n",
    "    # Train the model\n",
    "    model.fit(X_train, y_train)\n",
    "    \n",
    "    # Predict on the test set\n",
    "    y_pred = model.predict(X_test)\n",
    "    \n",
    "    # Calculate performance metrics\n",
    "    mae = mean_absolute_error(y_test, y_pred)\n",
    "    mse = mean_squared_error(y_test, y_pred)\n",
    "    rmse = np.sqrt(mse)\n",
    "    r2 = r2_score(y_test, y_pred)\n",
    "    \n",
    "    # Append results to the list\n",
    "    results_3.append([name, mae, mse, rmse, r2])\n",
    "\n",
    "# Create a DataFrame to display the results\n",
    "results_3_data = pd.DataFrame(results_3, columns=[\"Model\", \"MAE\", \"MSE\", \"RMSE\", \"R2 Score\"])\n",
    "print(results_3_data)"
   ]
  },
  {
   "cell_type": "code",
   "execution_count": null,
   "id": "6dd68eee-686f-4b5f-b73b-2ea07a66b55f",
   "metadata": {},
   "outputs": [],
   "source": [
    "# Store results\n",
    "results_3 = []\n",
    "\n",
    "# Train and evaluate models using cross-validation for R² Score\n",
    "for name, model in models.items():\n",
    "    # Perform cross-validation\n",
    "    cv_scores = cross_val_score(model, X, y, cv=5, scoring='r2')  # Using R² for scoring\n",
    "    mean_cv_score = cv_scores.mean()  # Mean R² score\n",
    "    \n",
    "    # Train the model on the full dataset for predictions\n",
    "    model.fit(X, y)\n",
    "    \n",
    "    # Store results\n",
    "    results_3.append([name, mean_cv_score])\n",
    "\n",
    "# Create a DataFrame to display the results\n",
    "results_3_data = pd.DataFrame(results_3, columns=[\"Model\", \"Mean CV R² Score\"])\n",
    "print(\"\\nModel Performance Metrics using Cross-Validation for R² Score:\")\n",
    "print(results_3_data)"
   ]
  },
  {
   "cell_type": "code",
   "execution_count": null,
   "id": "5904c71d-a3e9-4771-b0aa-476db880865d",
   "metadata": {},
   "outputs": [],
   "source": [
    "# Create a DataFrame to display the results\n",
    "results_3_data = pd.DataFrame(results_3, columns=[\"Model\", \"Mean CV R² Score\"])\n",
    "print(\"\\nModel Performance Metrics using Cross-Validation for R² Score:\")\n",
    "print(results_3_data)\n",
    "\n",
    "# To demonstrate predictions and plot results, let's still split the data\n",
    "X_train, X_test, y_train, y_test = train_test_split(X, y, test_size=0.25, random_state=42)\n",
    "\n",
    "# Predict on the test set for final evaluation\n",
    "predictions = {}\n",
    "for name, model in models.items():\n",
    "    model.fit(X_train, y_train)\n",
    "    y_pred = model.predict(X_test)\n",
    "    predictions[name] = y_pred\n",
    "\n",
    "# Plotting actual vs predicted for each model vertically with smaller size\n",
    "plt.figure(figsize=(6, 10))  # Adjusted size for a more compact vertical layout\n",
    "\n",
    "for i, (name, y_pred) in enumerate(predictions.items()):\n",
    "    plt.subplot(3, 1, i + 1)  # 3 rows, 1 column\n",
    "    plt.scatter(y_test, y_pred, alpha=0.7)\n",
    "    plt.plot([y_test.min(), y_test.max()], [y_test.min(), y_test.max()], 'k--', lw=2)  # Diagonal line\n",
    "    plt.title(f'{name} Predictions')\n",
    "    plt.xlabel('Actual price')\n",
    "    plt.ylabel('Predicted price')\n",
    "    plt.xlim(y_test.min(), y_test.max())\n",
    "    plt.ylim(y_test.min(), y_test.max())\n",
    "\n",
    "plt.tight_layout()\n",
    "plt.show()"
   ]
  },
  {
   "cell_type": "code",
   "execution_count": null,
   "id": "91b31a74-16c6-4670-8d27-e1c944bfd68a",
   "metadata": {},
   "outputs": [],
   "source": [
    "from sklearn.linear_model import Lasso  # Lasso for regularization\n",
    "from sklearn.model_selection import GridSearchCV\n",
    "\n",
    "# Define features and target variable\n",
    "X = data_new.drop(columns='price')  # Features (age, sex, bmi, etc.)\n",
    "y = data_new['price']  # Target (insurance charges)\n",
    "\n",
    "# Set up parameter grids for each model\n",
    "param_grid = {\n",
    "    'Linear Regression': {'alpha': [0.01, 0.1, 1.0, 10.0]},  # Lasso regularization parameter\n",
    "    'Random Forest': {'n_estimators': [50, 100, 200]}  # Number of trees in the forest\n",
    "}\n",
    "\n",
    "# Models\n",
    "models = {\n",
    "    \"Linear Regression\": Lasso(),\n",
    "    \"Random Forest\": RandomForestRegressor(random_state=42)\n",
    "}\n",
    "\n",
    "# Store results\n",
    "results = []\n",
    "\n",
    "# Grid Search for hyperparameter tuning\n",
    "for name, model in models.items():\n",
    "    grid_search = GridSearchCV(model, param_grid[name], cv=5, scoring='r2')  # 5-fold CV for R²\n",
    "    grid_search.fit(X, y)\n",
    "    \n",
    "    # Best parameters and best score\n",
    "    best_params = grid_search.best_params_\n",
    "    best_score = grid_search.best_score_\n",
    "    \n",
    "    # Store results\n",
    "    results.append([name, best_params, best_score])\n",
    "\n",
    "# Create a DataFrame to display the results\n",
    "results_df = pd.DataFrame(results, columns=[\"Model\", \"Best Parameters\", \"Best CV R² Score\"])\n",
    "print(\"\\nBest Hyperparameters and Scores from Grid Search:\")\n",
    "print(results_df)"
   ]
  }
 ],
 "metadata": {
  "kernelspec": {
   "display_name": "Python 3 (ipykernel)",
   "language": "python",
   "name": "python3"
  },
  "language_info": {
   "codemirror_mode": {
    "name": "ipython",
    "version": 3
   },
   "file_extension": ".py",
   "mimetype": "text/x-python",
   "name": "python",
   "nbconvert_exporter": "python",
   "pygments_lexer": "ipython3",
   "version": "3.12.3"
  }
 },
 "nbformat": 4,
 "nbformat_minor": 5
}
